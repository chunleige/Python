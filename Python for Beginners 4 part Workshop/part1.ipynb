{
 "cells": [
  {
   "cell_type": "code",
   "execution_count": null,
   "id": "1bd811a5-2656-4978-89e8-a6032f20c4e4",
   "metadata": {},
   "outputs": [],
   "source": [
    "# this is a comment"
   ]
  },
  {
   "cell_type": "code",
   "execution_count": 1,
   "id": "b9ce9ca4-0836-4dd1-b855-d6e5018c8e6a",
   "metadata": {},
   "outputs": [
    {
     "data": {
      "text/plain": [
       "2"
      ]
     },
     "execution_count": 1,
     "metadata": {},
     "output_type": "execute_result"
    }
   ],
   "source": [
    "1 + 1"
   ]
  },
  {
   "cell_type": "code",
   "execution_count": 2,
   "id": "dbc05a27-8972-4527-bd04-543f52874df3",
   "metadata": {},
   "outputs": [
    {
     "data": {
      "text/plain": [
       "0"
      ]
     },
     "execution_count": 2,
     "metadata": {},
     "output_type": "execute_result"
    }
   ],
   "source": [
    " 1 - 1"
   ]
  },
  {
   "cell_type": "code",
   "execution_count": 3,
   "id": "5c6997d3-d613-4329-a386-e9f85ccac13d",
   "metadata": {},
   "outputs": [
    {
     "data": {
      "text/plain": [
       "5.0"
      ]
     },
     "execution_count": 3,
     "metadata": {},
     "output_type": "execute_result"
    }
   ],
   "source": [
    "5 / 1"
   ]
  },
  {
   "cell_type": "code",
   "execution_count": 4,
   "id": "37454bcd-c519-4a03-9921-6aa435803c55",
   "metadata": {},
   "outputs": [
    {
     "data": {
      "text/plain": [
       "12"
      ]
     },
     "execution_count": 4,
     "metadata": {},
     "output_type": "execute_result"
    }
   ],
   "source": [
    "3 * 4 "
   ]
  },
  {
   "cell_type": "code",
   "execution_count": 5,
   "id": "56d8764c-6d74-4b01-b7e6-7a45720bd006",
   "metadata": {},
   "outputs": [
    {
     "data": {
      "text/plain": [
       "3.0"
      ]
     },
     "execution_count": 5,
     "metadata": {},
     "output_type": "execute_result"
    }
   ],
   "source": [
    "import math \n",
    "math.sqrt(9)"
   ]
  },
  {
   "cell_type": "code",
   "execution_count": 6,
   "id": "3e4a9563-de94-4a21-8237-a7aa0087df0c",
   "metadata": {},
   "outputs": [
    {
     "data": {
      "text/plain": [
       "2.302585092994046"
      ]
     },
     "execution_count": 6,
     "metadata": {},
     "output_type": "execute_result"
    }
   ],
   "source": [
    "math.log(10)"
   ]
  },
  {
   "cell_type": "code",
   "execution_count": 51,
   "id": "e6eb04c8-17d5-4555-8a17-3a6f90a80006",
   "metadata": {},
   "outputs": [],
   "source": [
    "a = range(5)"
   ]
  },
  {
   "cell_type": "code",
   "execution_count": 8,
   "id": "48b42714-ec8f-48ee-9c73-deeea6800b87",
   "metadata": {},
   "outputs": [
    {
     "data": {
      "text/plain": [
       "range(0, 5)"
      ]
     },
     "execution_count": 8,
     "metadata": {},
     "output_type": "execute_result"
    }
   ],
   "source": [
    "a"
   ]
  },
  {
   "cell_type": "code",
   "execution_count": 52,
   "id": "11b28158-e995-41e7-89b1-73c58381d4ba",
   "metadata": {},
   "outputs": [
    {
     "name": "stdout",
     "output_type": "stream",
     "text": [
      "0\n",
      "1\n",
      "2\n",
      "3\n",
      "4\n"
     ]
    }
   ],
   "source": [
    "for number in a:\n",
    "  print (number)"
   ]
  },
  {
   "cell_type": "code",
   "execution_count": 11,
   "id": "aab64274-60d1-4ded-b92c-ec9f9e650160",
   "metadata": {},
   "outputs": [
    {
     "name": "stdout",
     "output_type": "stream",
     "text": [
      "10\n",
      "20\n",
      "30\n",
      "40\n",
      "50\n",
      "60\n",
      "70\n",
      "80\n",
      "90\n"
     ]
    }
   ],
   "source": [
    "# range(start, end, step)\n",
    "for n in range(10, 100, 10):\n",
    "    print(n)"
   ]
  },
  {
   "cell_type": "code",
   "execution_count": 12,
   "id": "103ee318-f24b-4b5e-8f4c-9d70f1bd8987",
   "metadata": {},
   "outputs": [
    {
     "data": {
      "text/plain": [
       "2.772588722239781"
      ]
     },
     "execution_count": 12,
     "metadata": {},
     "output_type": "execute_result"
    }
   ],
   "source": [
    "math.log(16)"
   ]
  },
  {
   "cell_type": "code",
   "execution_count": 17,
   "id": "91e197f5-2467-4832-a2ad-2a5983fe55f3",
   "metadata": {},
   "outputs": [
    {
     "data": {
      "text/plain": [
       "10.0"
      ]
     },
     "execution_count": 17,
     "metadata": {},
     "output_type": "execute_result"
    }
   ],
   "source": [
    "math.sqrt(20*5)"
   ]
  },
  {
   "cell_type": "code",
   "execution_count": 21,
   "id": "12cf1be5-0657-4f1a-b111-4294b9d4ca4a",
   "metadata": {},
   "outputs": [
    {
     "name": "stdout",
     "output_type": "stream",
     "text": [
      "1.0\n",
      "1.4142135623730951\n",
      "1.7320508075688772\n",
      "2.0\n",
      "2.23606797749979\n",
      "2.449489742783178\n",
      "2.6457513110645907\n",
      "2.8284271247461903\n",
      "3.0\n",
      "3.1622776601683795\n"
     ]
    }
   ],
   "source": [
    "for n in range(1,11):\n",
    "  print(math.sqrt(n))"
   ]
  },
  {
   "cell_type": "code",
   "execution_count": 22,
   "id": "e4cf1442-d19e-41dc-bd13-188885f3e6e1",
   "metadata": {},
   "outputs": [
    {
     "name": "stdout",
     "output_type": "stream",
     "text": [
      "Hello World!\n"
     ]
    }
   ],
   "source": [
    "print(\"Hello World!\")"
   ]
  },
  {
   "cell_type": "code",
   "execution_count": 23,
   "id": "f5db8879-ddf4-4e67-a85b-28aa2eb95ea9",
   "metadata": {},
   "outputs": [],
   "source": [
    "def add(x,y):\n",
    "    answer = x + y\n",
    "    return answer"
   ]
  },
  {
   "cell_type": "code",
   "execution_count": 25,
   "id": "0500f8c0-6774-415d-9e19-ae238b78ac28",
   "metadata": {},
   "outputs": [
    {
     "data": {
      "text/plain": [
       "3"
      ]
     },
     "execution_count": 25,
     "metadata": {},
     "output_type": "execute_result"
    }
   ],
   "source": [
    "add(1,2)"
   ]
  },
  {
   "cell_type": "code",
   "execution_count": 26,
   "id": "6e256fef-a30f-43b6-bad9-9bf3147c10f2",
   "metadata": {},
   "outputs": [],
   "source": [
    "import random\n",
    "randomlist = random.sample(range(0,101),50) #sampling from 0 to 100 \n",
    "randomlist"
   ]
  },
  {
   "cell_type": "code",
   "execution_count": 27,
   "id": "25cf4688-e845-4ba8-bf09-9af0e8389b70",
   "metadata": {},
   "outputs": [
    {
     "data": {
      "text/plain": [
       "[27,\n",
       " 79,\n",
       " 58,\n",
       " 65,\n",
       " 67,\n",
       " 45,\n",
       " 24,\n",
       " 11,\n",
       " 59,\n",
       " 97,\n",
       " 30,\n",
       " 19,\n",
       " 13,\n",
       " 84,\n",
       " 56,\n",
       " 40,\n",
       " 6,\n",
       " 17,\n",
       " 91,\n",
       " 81,\n",
       " 33,\n",
       " 31,\n",
       " 54,\n",
       " 60,\n",
       " 55,\n",
       " 36,\n",
       " 35,\n",
       " 68,\n",
       " 93,\n",
       " 48,\n",
       " 49,\n",
       " 25,\n",
       " 73,\n",
       " 21,\n",
       " 80,\n",
       " 76,\n",
       " 34,\n",
       " 32,\n",
       " 95,\n",
       " 62,\n",
       " 4,\n",
       " 46,\n",
       " 39,\n",
       " 44,\n",
       " 77,\n",
       " 63,\n",
       " 94,\n",
       " 9,\n",
       " 96,\n",
       " 83]"
      ]
     },
     "execution_count": 27,
     "metadata": {},
     "output_type": "execute_result"
    }
   ],
   "source": [
    "randomlist"
   ]
  },
  {
   "cell_type": "code",
   "execution_count": null,
   "id": "d14b125f-ee8a-4871-8b8f-beb2edee16e9",
   "metadata": {},
   "outputs": [
    {
     "data": {
      "text/plain": [
       "51.68"
      ]
     },
     "execution_count": 29,
     "metadata": {},
     "output_type": "execute_result"
    }
   ],
   "source": [
    "import numpy as np \n",
    "np.mean(randomlist)"
   ]
  },
  {
   "cell_type": "code",
   "execution_count": 30,
   "id": "eae006ac-e2de-49ee-b5fc-2ccee808b4c2",
   "metadata": {},
   "outputs": [
    {
     "data": {
      "text/plain": [
       "51.68"
      ]
     },
     "execution_count": 30,
     "metadata": {},
     "output_type": "execute_result"
    }
   ],
   "source": [
    "sum(randomlist)/len(randomlist)"
   ]
  },
  {
   "cell_type": "code",
   "execution_count": 31,
   "id": "8dfec03b-313b-4ccf-97e3-452e69849974",
   "metadata": {},
   "outputs": [
    {
     "data": {
      "text/plain": [
       "51.5"
      ]
     },
     "execution_count": 31,
     "metadata": {},
     "output_type": "execute_result"
    }
   ],
   "source": [
    "import statistics as st\n",
    "st.median(randomlist)"
   ]
  },
  {
   "cell_type": "code",
   "execution_count": 32,
   "id": "a7e5b401-01c2-4412-a73f-2a5a7d692a4b",
   "metadata": {},
   "outputs": [
    {
     "data": {
      "text/plain": [
       "714.5376"
      ]
     },
     "execution_count": 32,
     "metadata": {},
     "output_type": "execute_result"
    }
   ],
   "source": [
    "np.var(randomlist)"
   ]
  },
  {
   "cell_type": "code",
   "execution_count": 38,
   "id": "b1257e18-f5e2-4e90-a769-1ef171b3c7e0",
   "metadata": {},
   "outputs": [
    {
     "data": {
      "text/plain": [
       "26.730836126092278"
      ]
     },
     "execution_count": 38,
     "metadata": {},
     "output_type": "execute_result"
    }
   ],
   "source": [
    "np.std(randomlist)"
   ]
  },
  {
   "cell_type": "code",
   "execution_count": 40,
   "id": "f7be7494-a374-4e05-9fcb-e60983c1e480",
   "metadata": {},
   "outputs": [],
   "source": [
    "# define a variable\n",
    "x = 5"
   ]
  },
  {
   "cell_type": "code",
   "execution_count": null,
   "id": "d1f3d24a-7e16-4216-a7c9-4baaba69307a",
   "metadata": {},
   "outputs": [],
   "source": [
    "x"
   ]
  },
  {
   "cell_type": "code",
   "execution_count": 42,
   "id": "6e837c2b-c2da-40bf-a704-9ab26a41cf05",
   "metadata": {},
   "outputs": [
    {
     "name": "stdout",
     "output_type": "stream",
     "text": [
      "5\n"
     ]
    }
   ],
   "source": [
    "print(x)"
   ]
  },
  {
   "cell_type": "code",
   "execution_count": 43,
   "id": "b0349209-0e09-4b02-8a88-c7712ce56c6e",
   "metadata": {},
   "outputs": [],
   "source": [
    "x = 10 "
   ]
  },
  {
   "cell_type": "code",
   "execution_count": 44,
   "id": "bc64864c-4167-439d-8190-0438b4bab8d5",
   "metadata": {},
   "outputs": [
    {
     "data": {
      "text/plain": [
       "10"
      ]
     },
     "execution_count": 44,
     "metadata": {},
     "output_type": "execute_result"
    }
   ],
   "source": [
    "x"
   ]
  },
  {
   "cell_type": "code",
   "execution_count": 45,
   "id": "0cb9dbef-6b86-42c7-a7c5-10d026da4979",
   "metadata": {},
   "outputs": [
    {
     "data": {
      "text/plain": [
       "2"
      ]
     },
     "execution_count": 45,
     "metadata": {},
     "output_type": "execute_result"
    }
   ],
   "source": [
    "z = 1 + 1\n",
    "z"
   ]
  },
  {
   "cell_type": "code",
   "execution_count": 46,
   "id": "a4aac6c3-2b5a-4482-83b6-f0c733dca066",
   "metadata": {},
   "outputs": [
    {
     "data": {
      "text/plain": [
       "3"
      ]
     },
     "execution_count": 46,
     "metadata": {},
     "output_type": "execute_result"
    }
   ],
   "source": [
    "z + 1"
   ]
  },
  {
   "cell_type": "code",
   "execution_count": 47,
   "id": "b419496a-ba97-4fe4-bef4-3469585c5129",
   "metadata": {},
   "outputs": [
    {
     "data": {
      "text/plain": [
       "2"
      ]
     },
     "execution_count": 47,
     "metadata": {},
     "output_type": "execute_result"
    }
   ],
   "source": [
    "z"
   ]
  },
  {
   "cell_type": "code",
   "execution_count": 48,
   "id": "91ac06c0-ecf0-4330-a8d4-a0ce02327744",
   "metadata": {},
   "outputs": [
    {
     "data": {
      "text/plain": [
       "100"
      ]
     },
     "execution_count": 48,
     "metadata": {},
     "output_type": "execute_result"
    }
   ],
   "source": [
    "x ** 2"
   ]
  },
  {
   "cell_type": "code",
   "execution_count": 49,
   "id": "8cd29022-5fd4-4066-be0b-dac71225cd9f",
   "metadata": {},
   "outputs": [
    {
     "data": {
      "text/plain": [
       "[86, 70, 100, 39, 18, 21, 99, 5, 76, 94]"
      ]
     },
     "execution_count": 49,
     "metadata": {},
     "output_type": "execute_result"
    }
   ],
   "source": [
    "random_sample = random.sample(range(1,101),10)\n",
    "random_sample"
   ]
  },
  {
   "cell_type": "code",
   "execution_count": 53,
   "id": "241a7c18-96b4-4f54-bee6-f4d9f5295cd2",
   "metadata": {},
   "outputs": [
    {
     "data": {
      "text/plain": [
       "list"
      ]
     },
     "execution_count": 53,
     "metadata": {},
     "output_type": "execute_result"
    }
   ],
   "source": [
    "type(random_sample)"
   ]
  },
  {
   "cell_type": "code",
   "execution_count": 55,
   "id": "15a4d45d-2331-4a73-8337-d1d5e747a4ac",
   "metadata": {},
   "outputs": [
    {
     "data": {
      "text/plain": [
       "int"
      ]
     },
     "execution_count": 55,
     "metadata": {},
     "output_type": "execute_result"
    }
   ],
   "source": [
    "type(random_sample[0])"
   ]
  },
  {
   "cell_type": "code",
   "execution_count": 56,
   "id": "dd03229f-2702-45a7-8e52-d6509bd260a8",
   "metadata": {},
   "outputs": [
    {
     "data": {
      "text/plain": [
       "1.0"
      ]
     },
     "execution_count": 56,
     "metadata": {},
     "output_type": "execute_result"
    }
   ],
   "source": [
    "q = 1/47*47\n",
    "q"
   ]
  },
  {
   "cell_type": "code",
   "execution_count": 57,
   "id": "17fc6c22-2389-44c7-8306-a73ee86305f3",
   "metadata": {},
   "outputs": [],
   "source": [
    "w = 47"
   ]
  },
  {
   "cell_type": "code",
   "execution_count": 58,
   "id": "dc92e9c8-0ec3-48eb-b2f8-1706a5526598",
   "metadata": {},
   "outputs": [],
   "source": [
    "w = 1"
   ]
  },
  {
   "cell_type": "code",
   "execution_count": 59,
   "id": "8aaa0aeb-03a5-4261-a081-37470544856f",
   "metadata": {},
   "outputs": [
    {
     "data": {
      "text/plain": [
       "True"
      ]
     },
     "execution_count": 59,
     "metadata": {},
     "output_type": "execute_result"
    }
   ],
   "source": [
    "q == w"
   ]
  },
  {
   "cell_type": "code",
   "execution_count": 60,
   "id": "bfb1a051-2f05-4123-8750-de01a8a4847d",
   "metadata": {},
   "outputs": [
    {
     "data": {
      "text/plain": [
       "1"
      ]
     },
     "execution_count": 60,
     "metadata": {},
     "output_type": "execute_result"
    }
   ],
   "source": [
    "w"
   ]
  },
  {
   "cell_type": "code",
   "execution_count": 63,
   "id": "02693954-0c4f-4227-8d75-1d2696cf250f",
   "metadata": {},
   "outputs": [
    {
     "data": {
      "text/plain": [
       "False"
      ]
     },
     "execution_count": 63,
     "metadata": {},
     "output_type": "execute_result"
    }
   ],
   "source": [
    "type(q) == type(w)"
   ]
  },
  {
   "cell_type": "code",
   "execution_count": 64,
   "id": "09609648-d33f-49bb-b91d-5da3b95c2071",
   "metadata": {},
   "outputs": [
    {
     "data": {
      "text/plain": [
       "'UBC'"
      ]
     },
     "execution_count": 64,
     "metadata": {},
     "output_type": "execute_result"
    }
   ],
   "source": [
    "st = \"UBC\"\n",
    "st"
   ]
  },
  {
   "cell_type": "code",
   "execution_count": 65,
   "id": "88291602-08bf-4ff1-97d7-780107d2b2a5",
   "metadata": {},
   "outputs": [
    {
     "data": {
      "text/plain": [
       "str"
      ]
     },
     "execution_count": 65,
     "metadata": {},
     "output_type": "execute_result"
    }
   ],
   "source": [
    "type(st)"
   ]
  },
  {
   "cell_type": "code",
   "execution_count": 67,
   "id": "1581f739-2727-4d7e-8d1c-219e025774fa",
   "metadata": {},
   "outputs": [
    {
     "data": {
      "text/plain": [
       "True"
      ]
     },
     "execution_count": 67,
     "metadata": {},
     "output_type": "execute_result"
    }
   ],
   "source": [
    "5 < 7 "
   ]
  },
  {
   "cell_type": "code",
   "execution_count": 68,
   "id": "b90dcd99-0a1a-480c-8f58-93409adc7f15",
   "metadata": {},
   "outputs": [
    {
     "data": {
      "text/plain": [
       "True"
      ]
     },
     "execution_count": 68,
     "metadata": {},
     "output_type": "execute_result"
    }
   ],
   "source": [
    "5 == 5"
   ]
  },
  {
   "cell_type": "code",
   "execution_count": 69,
   "id": "9cd598be-2baf-41d1-a650-76312970dd96",
   "metadata": {},
   "outputs": [
    {
     "data": {
      "text/plain": [
       "True"
      ]
     },
     "execution_count": 69,
     "metadata": {},
     "output_type": "execute_result"
    }
   ],
   "source": [
    "5.0 == 5"
   ]
  },
  {
   "cell_type": "code",
   "execution_count": 70,
   "id": "9a015e7c-2118-4cdd-bb0d-7624160bc045",
   "metadata": {},
   "outputs": [
    {
     "data": {
      "text/plain": [
       "True"
      ]
     },
     "execution_count": 70,
     "metadata": {},
     "output_type": "execute_result"
    }
   ],
   "source": [
    "5.0 >= 5"
   ]
  },
  {
   "cell_type": "code",
   "execution_count": 71,
   "id": "011b58f6-4c69-498b-870c-9ee26df1a8a3",
   "metadata": {},
   "outputs": [
    {
     "data": {
      "text/plain": [
       "[]"
      ]
     },
     "execution_count": 71,
     "metadata": {},
     "output_type": "execute_result"
    }
   ],
   "source": [
    "list1 = []\n",
    "list1"
   ]
  },
  {
   "cell_type": "code",
   "execution_count": 72,
   "id": "2575b3c1-7eaa-4166-9664-88d5c4e22394",
   "metadata": {},
   "outputs": [
    {
     "data": {
      "text/plain": [
       "0"
      ]
     },
     "execution_count": 72,
     "metadata": {},
     "output_type": "execute_result"
    }
   ],
   "source": [
    "len(list1)"
   ]
  },
  {
   "cell_type": "code",
   "execution_count": 73,
   "id": "6ffe6992-63c7-4529-af50-ebb1aa889016",
   "metadata": {},
   "outputs": [
    {
     "data": {
      "text/plain": [
       "[1, 'ubc', 2.0]"
      ]
     },
     "execution_count": 73,
     "metadata": {},
     "output_type": "execute_result"
    }
   ],
   "source": [
    "list2 = [1, \"ubc\", 2.0]\n",
    "list2"
   ]
  },
  {
   "cell_type": "code",
   "execution_count": 74,
   "id": "776bebde-d83d-449c-a6f1-4047ad637c71",
   "metadata": {},
   "outputs": [
    {
     "data": {
      "text/plain": [
       "1"
      ]
     },
     "execution_count": 74,
     "metadata": {},
     "output_type": "execute_result"
    }
   ],
   "source": [
    "list2[0]"
   ]
  },
  {
   "cell_type": "code",
   "execution_count": 76,
   "id": "ae6e2a92-fec2-47b2-ae6a-6be420138010",
   "metadata": {},
   "outputs": [
    {
     "data": {
      "text/plain": [
       "2.0"
      ]
     },
     "execution_count": 76,
     "metadata": {},
     "output_type": "execute_result"
    }
   ],
   "source": [
    "list2[-1]"
   ]
  },
  {
   "cell_type": "code",
   "execution_count": 77,
   "id": "85b8595d-227e-41b5-abe2-2633de8416ec",
   "metadata": {},
   "outputs": [
    {
     "data": {
      "text/plain": [
       "'ubc'"
      ]
     },
     "execution_count": 77,
     "metadata": {},
     "output_type": "execute_result"
    }
   ],
   "source": [
    "list2[-2]"
   ]
  },
  {
   "cell_type": "code",
   "execution_count": 82,
   "id": "32813c85-e4d4-412a-9267-cdaea3c0abdb",
   "metadata": {},
   "outputs": [
    {
     "data": {
      "text/plain": [
       "dict"
      ]
     },
     "execution_count": 82,
     "metadata": {},
     "output_type": "execute_result"
    }
   ],
   "source": [
    "house = {'bed': 2, 'bath': 3, 'address': ['101 soda rd','33 ave']}\n",
    "type(house)"
   ]
  },
  {
   "cell_type": "code",
   "execution_count": 79,
   "id": "e1e77da3-bee2-4e3f-b075-db201c0b8331",
   "metadata": {},
   "outputs": [
    {
     "data": {
      "text/plain": [
       "2"
      ]
     },
     "execution_count": 79,
     "metadata": {},
     "output_type": "execute_result"
    }
   ],
   "source": [
    "house['bed']"
   ]
  },
  {
   "cell_type": "code",
   "execution_count": 80,
   "id": "30e5b8ca-f501-4c90-ada0-1511960bf160",
   "metadata": {},
   "outputs": [
    {
     "data": {
      "text/plain": [
       "int"
      ]
     },
     "execution_count": 80,
     "metadata": {},
     "output_type": "execute_result"
    }
   ],
   "source": [
    "type(house['bed'])"
   ]
  },
  {
   "cell_type": "code",
   "execution_count": 83,
   "id": "af2c3412-4c49-4945-bd7e-ff19c98f56d9",
   "metadata": {},
   "outputs": [
    {
     "data": {
      "text/plain": [
       "list"
      ]
     },
     "execution_count": 83,
     "metadata": {},
     "output_type": "execute_result"
    }
   ],
   "source": [
    "type(house['address'])"
   ]
  },
  {
   "cell_type": "code",
   "execution_count": null,
   "id": "6c3d6a81-4ea3-4de6-8f00-bad22d6031c8",
   "metadata": {},
   "outputs": [],
   "source": []
  }
 ],
 "metadata": {
  "kernelspec": {
   "display_name": "Python 3 (ipykernel)",
   "language": "python",
   "name": "python3"
  },
  "language_info": {
   "codemirror_mode": {
    "name": "ipython",
    "version": 3
   },
   "file_extension": ".py",
   "mimetype": "text/x-python",
   "name": "python",
   "nbconvert_exporter": "python",
   "pygments_lexer": "ipython3",
   "version": "3.10.8"
  }
 },
 "nbformat": 4,
 "nbformat_minor": 5
}

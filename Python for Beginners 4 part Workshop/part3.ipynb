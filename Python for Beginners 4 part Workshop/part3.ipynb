{
 "cells": [
  {
   "cell_type": "code",
   "execution_count": 1,
   "id": "c193fe4a-727c-40a1-b68e-f7b15a36e9c6",
   "metadata": {
    "tags": []
   },
   "outputs": [],
   "source": [
    "import pandas as pd\n",
    "url = 'https://raw.githubusercontent.com/jstaf/gapminder/master/gapminder/gapminder.csv'\n",
    "df = pd.read_csv(url)"
   ]
  },
  {
   "cell_type": "code",
   "execution_count": 3,
   "id": "d4332e4f-4752-4d9d-aef8-9fed14da7800",
   "metadata": {
    "tags": []
   },
   "outputs": [
    {
     "data": {
      "text/html": [
       "<div>\n",
       "<style scoped>\n",
       "    .dataframe tbody tr th:only-of-type {\n",
       "        vertical-align: middle;\n",
       "    }\n",
       "\n",
       "    .dataframe tbody tr th {\n",
       "        vertical-align: top;\n",
       "    }\n",
       "\n",
       "    .dataframe thead th {\n",
       "        text-align: right;\n",
       "    }\n",
       "</style>\n",
       "<table border=\"1\" class=\"dataframe\">\n",
       "  <thead>\n",
       "    <tr style=\"text-align: right;\">\n",
       "      <th></th>\n",
       "      <th>country</th>\n",
       "      <th>continent</th>\n",
       "      <th>year</th>\n",
       "      <th>lifeExp</th>\n",
       "      <th>pop</th>\n",
       "      <th>gdpPercap</th>\n",
       "    </tr>\n",
       "  </thead>\n",
       "  <tbody>\n",
       "    <tr>\n",
       "      <th>0</th>\n",
       "      <td>Afghanistan</td>\n",
       "      <td>Asia</td>\n",
       "      <td>1952</td>\n",
       "      <td>28.801</td>\n",
       "      <td>8425333</td>\n",
       "      <td>779.445314</td>\n",
       "    </tr>\n",
       "    <tr>\n",
       "      <th>1</th>\n",
       "      <td>Afghanistan</td>\n",
       "      <td>Asia</td>\n",
       "      <td>1957</td>\n",
       "      <td>30.332</td>\n",
       "      <td>9240934</td>\n",
       "      <td>820.853030</td>\n",
       "    </tr>\n",
       "    <tr>\n",
       "      <th>2</th>\n",
       "      <td>Afghanistan</td>\n",
       "      <td>Asia</td>\n",
       "      <td>1962</td>\n",
       "      <td>31.997</td>\n",
       "      <td>10267083</td>\n",
       "      <td>853.100710</td>\n",
       "    </tr>\n",
       "    <tr>\n",
       "      <th>3</th>\n",
       "      <td>Afghanistan</td>\n",
       "      <td>Asia</td>\n",
       "      <td>1967</td>\n",
       "      <td>34.020</td>\n",
       "      <td>11537966</td>\n",
       "      <td>836.197138</td>\n",
       "    </tr>\n",
       "    <tr>\n",
       "      <th>4</th>\n",
       "      <td>Afghanistan</td>\n",
       "      <td>Asia</td>\n",
       "      <td>1972</td>\n",
       "      <td>36.088</td>\n",
       "      <td>13079460</td>\n",
       "      <td>739.981106</td>\n",
       "    </tr>\n",
       "  </tbody>\n",
       "</table>\n",
       "</div>"
      ],
      "text/plain": [
       "       country continent  year  lifeExp       pop   gdpPercap\n",
       "0  Afghanistan      Asia  1952   28.801   8425333  779.445314\n",
       "1  Afghanistan      Asia  1957   30.332   9240934  820.853030\n",
       "2  Afghanistan      Asia  1962   31.997  10267083  853.100710\n",
       "3  Afghanistan      Asia  1967   34.020  11537966  836.197138\n",
       "4  Afghanistan      Asia  1972   36.088  13079460  739.981106"
      ]
     },
     "execution_count": 3,
     "metadata": {},
     "output_type": "execute_result"
    }
   ],
   "source": [
    "df.head()"
   ]
  },
  {
   "cell_type": "code",
   "execution_count": 5,
   "id": "793b74c2-82b9-4137-ab74-6045eb7bd4bc",
   "metadata": {
    "tags": []
   },
   "outputs": [
    {
     "data": {
      "text/plain": [
       "country      0\n",
       "continent    0\n",
       "year         0\n",
       "lifeExp      0\n",
       "pop          0\n",
       "gdpPercap    0\n",
       "dtype: int64"
      ]
     },
     "execution_count": 5,
     "metadata": {},
     "output_type": "execute_result"
    }
   ],
   "source": [
    "df.isnull().sum()"
   ]
  },
  {
   "cell_type": "code",
   "execution_count": 6,
   "id": "90372251-5c6e-418a-adc9-8e38ad58e118",
   "metadata": {
    "tags": []
   },
   "outputs": [
    {
     "data": {
      "text/plain": [
       "0"
      ]
     },
     "execution_count": 6,
     "metadata": {},
     "output_type": "execute_result"
    }
   ],
   "source": [
    "df.isnull().sum().sum()"
   ]
  },
  {
   "cell_type": "code",
   "execution_count": 7,
   "id": "b4554ff5-0cbc-4cdd-a124-9e306baa42b3",
   "metadata": {
    "tags": []
   },
   "outputs": [
    {
     "data": {
      "text/plain": [
       "0       False\n",
       "1       False\n",
       "2       False\n",
       "3       False\n",
       "4       False\n",
       "        ...  \n",
       "1699    False\n",
       "1700    False\n",
       "1701    False\n",
       "1702    False\n",
       "1703    False\n",
       "Name: country, Length: 1704, dtype: bool"
      ]
     },
     "execution_count": 7,
     "metadata": {},
     "output_type": "execute_result"
    }
   ],
   "source": [
    "df['country'].isnull()"
   ]
  },
  {
   "cell_type": "code",
   "execution_count": 8,
   "id": "91a73ca1-58f7-4e80-8e27-a59fd0bfa0f9",
   "metadata": {
    "tags": []
   },
   "outputs": [
    {
     "data": {
      "text/plain": [
       "0"
      ]
     },
     "execution_count": 8,
     "metadata": {},
     "output_type": "execute_result"
    }
   ],
   "source": [
    "df['country'].isnull().sum()"
   ]
  },
  {
   "cell_type": "code",
   "execution_count": 9,
   "id": "e1435acd-2084-4d1e-bfd3-a23a0d574399",
   "metadata": {
    "tags": []
   },
   "outputs": [
    {
     "data": {
      "text/html": [
       "<div>\n",
       "<style scoped>\n",
       "    .dataframe tbody tr th:only-of-type {\n",
       "        vertical-align: middle;\n",
       "    }\n",
       "\n",
       "    .dataframe tbody tr th {\n",
       "        vertical-align: top;\n",
       "    }\n",
       "\n",
       "    .dataframe thead th {\n",
       "        text-align: right;\n",
       "    }\n",
       "</style>\n",
       "<table border=\"1\" class=\"dataframe\">\n",
       "  <thead>\n",
       "    <tr style=\"text-align: right;\">\n",
       "      <th></th>\n",
       "      <th>Country</th>\n",
       "      <th>continent</th>\n",
       "      <th>year</th>\n",
       "      <th>lifeExp</th>\n",
       "      <th>pop</th>\n",
       "      <th>gdpPercap</th>\n",
       "    </tr>\n",
       "  </thead>\n",
       "  <tbody>\n",
       "    <tr>\n",
       "      <th>0</th>\n",
       "      <td>Afghanistan</td>\n",
       "      <td>Asia</td>\n",
       "      <td>1952</td>\n",
       "      <td>28.801</td>\n",
       "      <td>8425333</td>\n",
       "      <td>779.445314</td>\n",
       "    </tr>\n",
       "    <tr>\n",
       "      <th>1</th>\n",
       "      <td>Afghanistan</td>\n",
       "      <td>Asia</td>\n",
       "      <td>1957</td>\n",
       "      <td>30.332</td>\n",
       "      <td>9240934</td>\n",
       "      <td>820.853030</td>\n",
       "    </tr>\n",
       "    <tr>\n",
       "      <th>2</th>\n",
       "      <td>Afghanistan</td>\n",
       "      <td>Asia</td>\n",
       "      <td>1962</td>\n",
       "      <td>31.997</td>\n",
       "      <td>10267083</td>\n",
       "      <td>853.100710</td>\n",
       "    </tr>\n",
       "    <tr>\n",
       "      <th>3</th>\n",
       "      <td>Afghanistan</td>\n",
       "      <td>Asia</td>\n",
       "      <td>1967</td>\n",
       "      <td>34.020</td>\n",
       "      <td>11537966</td>\n",
       "      <td>836.197138</td>\n",
       "    </tr>\n",
       "    <tr>\n",
       "      <th>4</th>\n",
       "      <td>Afghanistan</td>\n",
       "      <td>Asia</td>\n",
       "      <td>1972</td>\n",
       "      <td>36.088</td>\n",
       "      <td>13079460</td>\n",
       "      <td>739.981106</td>\n",
       "    </tr>\n",
       "  </tbody>\n",
       "</table>\n",
       "</div>"
      ],
      "text/plain": [
       "       Country continent  year  lifeExp       pop   gdpPercap\n",
       "0  Afghanistan      Asia  1952   28.801   8425333  779.445314\n",
       "1  Afghanistan      Asia  1957   30.332   9240934  820.853030\n",
       "2  Afghanistan      Asia  1962   31.997  10267083  853.100710\n",
       "3  Afghanistan      Asia  1967   34.020  11537966  836.197138\n",
       "4  Afghanistan      Asia  1972   36.088  13079460  739.981106"
      ]
     },
     "execution_count": 9,
     "metadata": {},
     "output_type": "execute_result"
    }
   ],
   "source": [
    "df = df.rename({'country':'Country'}, axis = 1)\n",
    "df.head()"
   ]
  },
  {
   "cell_type": "code",
   "execution_count": 13,
   "id": "3e6e9e79-caff-46b2-aa78-8e6f8cc78766",
   "metadata": {
    "tags": []
   },
   "outputs": [
    {
     "data": {
      "text/html": [
       "<div>\n",
       "<style scoped>\n",
       "    .dataframe tbody tr th:only-of-type {\n",
       "        vertical-align: middle;\n",
       "    }\n",
       "\n",
       "    .dataframe tbody tr th {\n",
       "        vertical-align: top;\n",
       "    }\n",
       "\n",
       "    .dataframe thead th {\n",
       "        text-align: right;\n",
       "    }\n",
       "</style>\n",
       "<table border=\"1\" class=\"dataframe\">\n",
       "  <thead>\n",
       "    <tr style=\"text-align: right;\">\n",
       "      <th></th>\n",
       "      <th>Country</th>\n",
       "      <th>Continent</th>\n",
       "      <th>Year</th>\n",
       "      <th>lifeExp</th>\n",
       "      <th>Population</th>\n",
       "      <th>gdpPercap</th>\n",
       "    </tr>\n",
       "  </thead>\n",
       "  <tbody>\n",
       "    <tr>\n",
       "      <th>0</th>\n",
       "      <td>Afghanistan</td>\n",
       "      <td>Asia</td>\n",
       "      <td>1952</td>\n",
       "      <td>28.801</td>\n",
       "      <td>8425333</td>\n",
       "      <td>779.445314</td>\n",
       "    </tr>\n",
       "    <tr>\n",
       "      <th>1</th>\n",
       "      <td>Afghanistan</td>\n",
       "      <td>Asia</td>\n",
       "      <td>1957</td>\n",
       "      <td>30.332</td>\n",
       "      <td>9240934</td>\n",
       "      <td>820.853030</td>\n",
       "    </tr>\n",
       "    <tr>\n",
       "      <th>2</th>\n",
       "      <td>Afghanistan</td>\n",
       "      <td>Asia</td>\n",
       "      <td>1962</td>\n",
       "      <td>31.997</td>\n",
       "      <td>10267083</td>\n",
       "      <td>853.100710</td>\n",
       "    </tr>\n",
       "    <tr>\n",
       "      <th>3</th>\n",
       "      <td>Afghanistan</td>\n",
       "      <td>Asia</td>\n",
       "      <td>1967</td>\n",
       "      <td>34.020</td>\n",
       "      <td>11537966</td>\n",
       "      <td>836.197138</td>\n",
       "    </tr>\n",
       "    <tr>\n",
       "      <th>4</th>\n",
       "      <td>Afghanistan</td>\n",
       "      <td>Asia</td>\n",
       "      <td>1972</td>\n",
       "      <td>36.088</td>\n",
       "      <td>13079460</td>\n",
       "      <td>739.981106</td>\n",
       "    </tr>\n",
       "  </tbody>\n",
       "</table>\n",
       "</div>"
      ],
      "text/plain": [
       "       Country Continent  Year  lifeExp  Population   gdpPercap\n",
       "0  Afghanistan      Asia  1952   28.801     8425333  779.445314\n",
       "1  Afghanistan      Asia  1957   30.332     9240934  820.853030\n",
       "2  Afghanistan      Asia  1962   31.997    10267083  853.100710\n",
       "3  Afghanistan      Asia  1967   34.020    11537966  836.197138\n",
       "4  Afghanistan      Asia  1972   36.088    13079460  739.981106"
      ]
     },
     "execution_count": 13,
     "metadata": {},
     "output_type": "execute_result"
    }
   ],
   "source": [
    "df = df.rename({'continent':'Continent',\n",
    "                'pop' : 'Population',\n",
    "                'year': 'Year'}, axis = 1)\n",
    "df.head()"
   ]
  },
  {
   "cell_type": "code",
   "execution_count": 15,
   "id": "f85519f7-43a6-4f2a-a10a-10fbb3541774",
   "metadata": {
    "tags": []
   },
   "outputs": [
    {
     "data": {
      "text/html": [
       "<div>\n",
       "<style scoped>\n",
       "    .dataframe tbody tr th:only-of-type {\n",
       "        vertical-align: middle;\n",
       "    }\n",
       "\n",
       "    .dataframe tbody tr th {\n",
       "        vertical-align: top;\n",
       "    }\n",
       "\n",
       "    .dataframe thead th {\n",
       "        text-align: right;\n",
       "    }\n",
       "</style>\n",
       "<table border=\"1\" class=\"dataframe\">\n",
       "  <thead>\n",
       "    <tr style=\"text-align: right;\">\n",
       "      <th></th>\n",
       "      <th>Country</th>\n",
       "      <th>Year</th>\n",
       "      <th>lifeExp</th>\n",
       "      <th>Population</th>\n",
       "      <th>gdpPercap</th>\n",
       "    </tr>\n",
       "  </thead>\n",
       "  <tbody>\n",
       "    <tr>\n",
       "      <th>0</th>\n",
       "      <td>Afghanistan</td>\n",
       "      <td>1952</td>\n",
       "      <td>28.801</td>\n",
       "      <td>8425333</td>\n",
       "      <td>779.445314</td>\n",
       "    </tr>\n",
       "    <tr>\n",
       "      <th>1</th>\n",
       "      <td>Afghanistan</td>\n",
       "      <td>1957</td>\n",
       "      <td>30.332</td>\n",
       "      <td>9240934</td>\n",
       "      <td>820.853030</td>\n",
       "    </tr>\n",
       "    <tr>\n",
       "      <th>2</th>\n",
       "      <td>Afghanistan</td>\n",
       "      <td>1962</td>\n",
       "      <td>31.997</td>\n",
       "      <td>10267083</td>\n",
       "      <td>853.100710</td>\n",
       "    </tr>\n",
       "    <tr>\n",
       "      <th>3</th>\n",
       "      <td>Afghanistan</td>\n",
       "      <td>1967</td>\n",
       "      <td>34.020</td>\n",
       "      <td>11537966</td>\n",
       "      <td>836.197138</td>\n",
       "    </tr>\n",
       "    <tr>\n",
       "      <th>4</th>\n",
       "      <td>Afghanistan</td>\n",
       "      <td>1972</td>\n",
       "      <td>36.088</td>\n",
       "      <td>13079460</td>\n",
       "      <td>739.981106</td>\n",
       "    </tr>\n",
       "  </tbody>\n",
       "</table>\n",
       "</div>"
      ],
      "text/plain": [
       "       Country  Year  lifeExp  Population   gdpPercap\n",
       "0  Afghanistan  1952   28.801     8425333  779.445314\n",
       "1  Afghanistan  1957   30.332     9240934  820.853030\n",
       "2  Afghanistan  1962   31.997    10267083  853.100710\n",
       "3  Afghanistan  1967   34.020    11537966  836.197138\n",
       "4  Afghanistan  1972   36.088    13079460  739.981106"
      ]
     },
     "execution_count": 15,
     "metadata": {},
     "output_type": "execute_result"
    }
   ],
   "source": [
    "#delete one column \n",
    "df = df.drop(columns = {'Continent'}, axis =1)\n",
    "df.head()"
   ]
  },
  {
   "cell_type": "code",
   "execution_count": 20,
   "id": "e6b7def8-0a8a-451b-8db1-6d840a29e67e",
   "metadata": {},
   "outputs": [
    {
     "data": {
      "text/plain": [
       "Country        object\n",
       "Year            int64\n",
       "lifeExp         int64\n",
       "Population      int64\n",
       "gdpPercap     float64\n",
       "dtype: object"
      ]
     },
     "execution_count": 20,
     "metadata": {},
     "output_type": "execute_result"
    }
   ],
   "source": [
    "df['lifeExp'] =  df['lifeExp'].astype(int)\n",
    "df.dtypes"
   ]
  },
  {
   "cell_type": "code",
   "execution_count": 21,
   "id": "69e056dc-fc33-43ff-869a-d76407a533ec",
   "metadata": {
    "tags": []
   },
   "outputs": [
    {
     "data": {
      "text/plain": [
       "Country        object\n",
       "Year            int64\n",
       "lifeExp         int64\n",
       "Population      int64\n",
       "gdpPercap     float64\n",
       "dtype: object"
      ]
     },
     "execution_count": 21,
     "metadata": {},
     "output_type": "execute_result"
    }
   ],
   "source": [
    "df.dtypes"
   ]
  },
  {
   "cell_type": "code",
   "execution_count": 22,
   "id": "86f6790c-225e-42f7-8b2a-651ccb898913",
   "metadata": {
    "tags": []
   },
   "outputs": [
    {
     "data": {
      "text/html": [
       "<div>\n",
       "<style scoped>\n",
       "    .dataframe tbody tr th:only-of-type {\n",
       "        vertical-align: middle;\n",
       "    }\n",
       "\n",
       "    .dataframe tbody tr th {\n",
       "        vertical-align: top;\n",
       "    }\n",
       "\n",
       "    .dataframe thead th {\n",
       "        text-align: right;\n",
       "    }\n",
       "</style>\n",
       "<table border=\"1\" class=\"dataframe\">\n",
       "  <thead>\n",
       "    <tr style=\"text-align: right;\">\n",
       "      <th></th>\n",
       "      <th>Country</th>\n",
       "      <th>Year</th>\n",
       "      <th>lifeExp</th>\n",
       "      <th>Population</th>\n",
       "      <th>gdpPercap</th>\n",
       "    </tr>\n",
       "  </thead>\n",
       "  <tbody>\n",
       "    <tr>\n",
       "      <th>0</th>\n",
       "      <td>Afghanistan</td>\n",
       "      <td>1952</td>\n",
       "      <td>28</td>\n",
       "      <td>8425333</td>\n",
       "      <td>779.445314</td>\n",
       "    </tr>\n",
       "    <tr>\n",
       "      <th>1</th>\n",
       "      <td>Afghanistan</td>\n",
       "      <td>1957</td>\n",
       "      <td>30</td>\n",
       "      <td>9240934</td>\n",
       "      <td>820.853030</td>\n",
       "    </tr>\n",
       "    <tr>\n",
       "      <th>2</th>\n",
       "      <td>Afghanistan</td>\n",
       "      <td>1962</td>\n",
       "      <td>31</td>\n",
       "      <td>10267083</td>\n",
       "      <td>853.100710</td>\n",
       "    </tr>\n",
       "    <tr>\n",
       "      <th>3</th>\n",
       "      <td>Afghanistan</td>\n",
       "      <td>1967</td>\n",
       "      <td>34</td>\n",
       "      <td>11537966</td>\n",
       "      <td>836.197138</td>\n",
       "    </tr>\n",
       "    <tr>\n",
       "      <th>4</th>\n",
       "      <td>Afghanistan</td>\n",
       "      <td>1972</td>\n",
       "      <td>36</td>\n",
       "      <td>13079460</td>\n",
       "      <td>739.981106</td>\n",
       "    </tr>\n",
       "  </tbody>\n",
       "</table>\n",
       "</div>"
      ],
      "text/plain": [
       "       Country  Year  lifeExp  Population   gdpPercap\n",
       "0  Afghanistan  1952       28     8425333  779.445314\n",
       "1  Afghanistan  1957       30     9240934  820.853030\n",
       "2  Afghanistan  1962       31    10267083  853.100710\n",
       "3  Afghanistan  1967       34    11537966  836.197138\n",
       "4  Afghanistan  1972       36    13079460  739.981106"
      ]
     },
     "execution_count": 22,
     "metadata": {},
     "output_type": "execute_result"
    }
   ],
   "source": [
    "df.head()"
   ]
  },
  {
   "cell_type": "code",
   "execution_count": 27,
   "id": "5f111231-fd34-4223-9122-31c2b4161d7d",
   "metadata": {
    "tags": []
   },
   "outputs": [
    {
     "data": {
      "text/plain": [
       "Country        object\n",
       "Year            int64\n",
       "lifeExp       float64\n",
       "Population    float64\n",
       "gdpPercap     float64\n",
       "dtype: object"
      ]
     },
     "execution_count": 27,
     "metadata": {},
     "output_type": "execute_result"
    }
   ],
   "source": [
    "df= df.astype({'lifeExp':float,\n",
    "              'Population':float})\n",
    "df.dtypes"
   ]
  },
  {
   "cell_type": "code",
   "execution_count": 28,
   "id": "304f9a51-ef13-4aed-a968-6b146480380e",
   "metadata": {
    "tags": []
   },
   "outputs": [
    {
     "data": {
      "text/html": [
       "<div>\n",
       "<style scoped>\n",
       "    .dataframe tbody tr th:only-of-type {\n",
       "        vertical-align: middle;\n",
       "    }\n",
       "\n",
       "    .dataframe tbody tr th {\n",
       "        vertical-align: top;\n",
       "    }\n",
       "\n",
       "    .dataframe thead th {\n",
       "        text-align: right;\n",
       "    }\n",
       "</style>\n",
       "<table border=\"1\" class=\"dataframe\">\n",
       "  <thead>\n",
       "    <tr style=\"text-align: right;\">\n",
       "      <th></th>\n",
       "      <th>Country</th>\n",
       "      <th>Year</th>\n",
       "      <th>lifeExp</th>\n",
       "      <th>Population</th>\n",
       "      <th>gdpPercap</th>\n",
       "    </tr>\n",
       "  </thead>\n",
       "  <tbody>\n",
       "    <tr>\n",
       "      <th>0</th>\n",
       "      <td>Afghanistan</td>\n",
       "      <td>1952</td>\n",
       "      <td>28.0</td>\n",
       "      <td>8425333.0</td>\n",
       "      <td>779.445314</td>\n",
       "    </tr>\n",
       "    <tr>\n",
       "      <th>1</th>\n",
       "      <td>Afghanistan</td>\n",
       "      <td>1957</td>\n",
       "      <td>30.0</td>\n",
       "      <td>9240934.0</td>\n",
       "      <td>820.853030</td>\n",
       "    </tr>\n",
       "    <tr>\n",
       "      <th>2</th>\n",
       "      <td>Afghanistan</td>\n",
       "      <td>1962</td>\n",
       "      <td>31.0</td>\n",
       "      <td>10267083.0</td>\n",
       "      <td>853.100710</td>\n",
       "    </tr>\n",
       "    <tr>\n",
       "      <th>3</th>\n",
       "      <td>Afghanistan</td>\n",
       "      <td>1967</td>\n",
       "      <td>34.0</td>\n",
       "      <td>11537966.0</td>\n",
       "      <td>836.197138</td>\n",
       "    </tr>\n",
       "    <tr>\n",
       "      <th>4</th>\n",
       "      <td>Afghanistan</td>\n",
       "      <td>1972</td>\n",
       "      <td>36.0</td>\n",
       "      <td>13079460.0</td>\n",
       "      <td>739.981106</td>\n",
       "    </tr>\n",
       "  </tbody>\n",
       "</table>\n",
       "</div>"
      ],
      "text/plain": [
       "       Country  Year  lifeExp  Population   gdpPercap\n",
       "0  Afghanistan  1952     28.0   8425333.0  779.445314\n",
       "1  Afghanistan  1957     30.0   9240934.0  820.853030\n",
       "2  Afghanistan  1962     31.0  10267083.0  853.100710\n",
       "3  Afghanistan  1967     34.0  11537966.0  836.197138\n",
       "4  Afghanistan  1972     36.0  13079460.0  739.981106"
      ]
     },
     "execution_count": 28,
     "metadata": {},
     "output_type": "execute_result"
    }
   ],
   "source": [
    "df.head()"
   ]
  },
  {
   "cell_type": "code",
   "execution_count": 30,
   "id": "1d2120c6-4d7a-4fab-baae-75a1a93560f0",
   "metadata": {
    "tags": []
   },
   "outputs": [
    {
     "data": {
      "text/plain": [
       "142"
      ]
     },
     "execution_count": 30,
     "metadata": {},
     "output_type": "execute_result"
    }
   ],
   "source": [
    "df.Country.unique().size"
   ]
  },
  {
   "cell_type": "code",
   "execution_count": 31,
   "id": "47968ed4-323f-4d36-a7d0-eaec93e0ff62",
   "metadata": {
    "tags": []
   },
   "outputs": [
    {
     "data": {
      "text/plain": [
       "array([1952, 1957, 1962, 1967, 1972, 1977, 1982, 1987, 1992, 1997, 2002,\n",
       "       2007])"
      ]
     },
     "execution_count": 31,
     "metadata": {},
     "output_type": "execute_result"
    }
   ],
   "source": [
    "df.Year.unique()"
   ]
  },
  {
   "cell_type": "code",
   "execution_count": 44,
   "id": "9459077f-b04b-44cd-9439-1d7e4c40e597",
   "metadata": {
    "tags": []
   },
   "outputs": [
    {
     "data": {
      "text/html": [
       "<div>\n",
       "<style scoped>\n",
       "    .dataframe tbody tr th:only-of-type {\n",
       "        vertical-align: middle;\n",
       "    }\n",
       "\n",
       "    .dataframe tbody tr th {\n",
       "        vertical-align: top;\n",
       "    }\n",
       "\n",
       "    .dataframe thead th {\n",
       "        text-align: right;\n",
       "    }\n",
       "</style>\n",
       "<table border=\"1\" class=\"dataframe\">\n",
       "  <thead>\n",
       "    <tr style=\"text-align: right;\">\n",
       "      <th></th>\n",
       "      <th>Country</th>\n",
       "      <th>Year</th>\n",
       "      <th>lifeExp</th>\n",
       "      <th>Population</th>\n",
       "      <th>gdpPercap</th>\n",
       "      <th>TotalGDP</th>\n",
       "    </tr>\n",
       "  </thead>\n",
       "  <tbody>\n",
       "    <tr>\n",
       "      <th>0</th>\n",
       "      <td>Afghanistan</td>\n",
       "      <td>1952</td>\n",
       "      <td>28.0</td>\n",
       "      <td>8425333.0</td>\n",
       "      <td>779.445314</td>\n",
       "      <td>6.567086e+09</td>\n",
       "    </tr>\n",
       "    <tr>\n",
       "      <th>1</th>\n",
       "      <td>Afghanistan</td>\n",
       "      <td>1957</td>\n",
       "      <td>30.0</td>\n",
       "      <td>9240934.0</td>\n",
       "      <td>820.853030</td>\n",
       "      <td>7.585449e+09</td>\n",
       "    </tr>\n",
       "    <tr>\n",
       "      <th>2</th>\n",
       "      <td>Afghanistan</td>\n",
       "      <td>1962</td>\n",
       "      <td>31.0</td>\n",
       "      <td>10267083.0</td>\n",
       "      <td>853.100710</td>\n",
       "      <td>8.758856e+09</td>\n",
       "    </tr>\n",
       "    <tr>\n",
       "      <th>3</th>\n",
       "      <td>Afghanistan</td>\n",
       "      <td>1967</td>\n",
       "      <td>34.0</td>\n",
       "      <td>11537966.0</td>\n",
       "      <td>836.197138</td>\n",
       "      <td>9.648014e+09</td>\n",
       "    </tr>\n",
       "    <tr>\n",
       "      <th>4</th>\n",
       "      <td>Afghanistan</td>\n",
       "      <td>1972</td>\n",
       "      <td>36.0</td>\n",
       "      <td>13079460.0</td>\n",
       "      <td>739.981106</td>\n",
       "      <td>9.678553e+09</td>\n",
       "    </tr>\n",
       "  </tbody>\n",
       "</table>\n",
       "</div>"
      ],
      "text/plain": [
       "       Country  Year  lifeExp  Population   gdpPercap      TotalGDP\n",
       "0  Afghanistan  1952     28.0   8425333.0  779.445314  6.567086e+09\n",
       "1  Afghanistan  1957     30.0   9240934.0  820.853030  7.585449e+09\n",
       "2  Afghanistan  1962     31.0  10267083.0  853.100710  8.758856e+09\n",
       "3  Afghanistan  1967     34.0  11537966.0  836.197138  9.648014e+09\n",
       "4  Afghanistan  1972     36.0  13079460.0  739.981106  9.678553e+09"
      ]
     },
     "execution_count": 44,
     "metadata": {},
     "output_type": "execute_result"
    }
   ],
   "source": [
    "df['TotalGDP'] = df['Population'] * df['gdpPercap']\n",
    "df.head()"
   ]
  },
  {
   "cell_type": "code",
   "execution_count": 45,
   "id": "162b8768-419f-4c6f-b658-ca4a9952ca77",
   "metadata": {
    "tags": []
   },
   "outputs": [
    {
     "data": {
      "text/html": [
       "<div>\n",
       "<style scoped>\n",
       "    .dataframe tbody tr th:only-of-type {\n",
       "        vertical-align: middle;\n",
       "    }\n",
       "\n",
       "    .dataframe tbody tr th {\n",
       "        vertical-align: top;\n",
       "    }\n",
       "\n",
       "    .dataframe thead th {\n",
       "        text-align: right;\n",
       "    }\n",
       "</style>\n",
       "<table border=\"1\" class=\"dataframe\">\n",
       "  <thead>\n",
       "    <tr style=\"text-align: right;\">\n",
       "      <th></th>\n",
       "      <th>Country</th>\n",
       "      <th>Year</th>\n",
       "      <th>lifeExp</th>\n",
       "      <th>Population</th>\n",
       "      <th>gdpPercap</th>\n",
       "      <th>TotalGDP</th>\n",
       "      <th>TotalGDP_inBil</th>\n",
       "    </tr>\n",
       "  </thead>\n",
       "  <tbody>\n",
       "    <tr>\n",
       "      <th>0</th>\n",
       "      <td>Afghanistan</td>\n",
       "      <td>1952</td>\n",
       "      <td>28.0</td>\n",
       "      <td>8425333.0</td>\n",
       "      <td>779.445314</td>\n",
       "      <td>6.567086e+09</td>\n",
       "      <td>6.567086</td>\n",
       "    </tr>\n",
       "    <tr>\n",
       "      <th>1</th>\n",
       "      <td>Afghanistan</td>\n",
       "      <td>1957</td>\n",
       "      <td>30.0</td>\n",
       "      <td>9240934.0</td>\n",
       "      <td>820.853030</td>\n",
       "      <td>7.585449e+09</td>\n",
       "      <td>7.585449</td>\n",
       "    </tr>\n",
       "    <tr>\n",
       "      <th>2</th>\n",
       "      <td>Afghanistan</td>\n",
       "      <td>1962</td>\n",
       "      <td>31.0</td>\n",
       "      <td>10267083.0</td>\n",
       "      <td>853.100710</td>\n",
       "      <td>8.758856e+09</td>\n",
       "      <td>8.758856</td>\n",
       "    </tr>\n",
       "    <tr>\n",
       "      <th>3</th>\n",
       "      <td>Afghanistan</td>\n",
       "      <td>1967</td>\n",
       "      <td>34.0</td>\n",
       "      <td>11537966.0</td>\n",
       "      <td>836.197138</td>\n",
       "      <td>9.648014e+09</td>\n",
       "      <td>9.648014</td>\n",
       "    </tr>\n",
       "    <tr>\n",
       "      <th>4</th>\n",
       "      <td>Afghanistan</td>\n",
       "      <td>1972</td>\n",
       "      <td>36.0</td>\n",
       "      <td>13079460.0</td>\n",
       "      <td>739.981106</td>\n",
       "      <td>9.678553e+09</td>\n",
       "      <td>9.678553</td>\n",
       "    </tr>\n",
       "  </tbody>\n",
       "</table>\n",
       "</div>"
      ],
      "text/plain": [
       "       Country  Year  lifeExp  Population   gdpPercap      TotalGDP  \\\n",
       "0  Afghanistan  1952     28.0   8425333.0  779.445314  6.567086e+09   \n",
       "1  Afghanistan  1957     30.0   9240934.0  820.853030  7.585449e+09   \n",
       "2  Afghanistan  1962     31.0  10267083.0  853.100710  8.758856e+09   \n",
       "3  Afghanistan  1967     34.0  11537966.0  836.197138  9.648014e+09   \n",
       "4  Afghanistan  1972     36.0  13079460.0  739.981106  9.678553e+09   \n",
       "\n",
       "   TotalGDP_inBil  \n",
       "0        6.567086  \n",
       "1        7.585449  \n",
       "2        8.758856  \n",
       "3        9.648014  \n",
       "4        9.678553  "
      ]
     },
     "execution_count": 45,
     "metadata": {},
     "output_type": "execute_result"
    }
   ],
   "source": [
    "df['TotalGDP_inBil'] = df['TotalGDP']/(1000000000)\n",
    "df.head()"
   ]
  },
  {
   "cell_type": "code",
   "execution_count": 49,
   "id": "d3440e1c-81fd-4c37-9609-0ce6a4f08a47",
   "metadata": {
    "tags": []
   },
   "outputs": [
    {
     "data": {
      "text/html": [
       "<div>\n",
       "<style scoped>\n",
       "    .dataframe tbody tr th:only-of-type {\n",
       "        vertical-align: middle;\n",
       "    }\n",
       "\n",
       "    .dataframe tbody tr th {\n",
       "        vertical-align: top;\n",
       "    }\n",
       "\n",
       "    .dataframe thead th {\n",
       "        text-align: right;\n",
       "    }\n",
       "</style>\n",
       "<table border=\"1\" class=\"dataframe\">\n",
       "  <thead>\n",
       "    <tr style=\"text-align: right;\">\n",
       "      <th></th>\n",
       "      <th>Country</th>\n",
       "      <th>Year</th>\n",
       "      <th>lifeExp</th>\n",
       "      <th>Population</th>\n",
       "      <th>gdpPercap</th>\n",
       "      <th>TotalGDP</th>\n",
       "      <th>TotalGDP_inBil</th>\n",
       "      <th>country_year</th>\n",
       "    </tr>\n",
       "  </thead>\n",
       "  <tbody>\n",
       "    <tr>\n",
       "      <th>0</th>\n",
       "      <td>Afghanistan</td>\n",
       "      <td>1952</td>\n",
       "      <td>28.0</td>\n",
       "      <td>8425333.0</td>\n",
       "      <td>779.445314</td>\n",
       "      <td>6.567086e+09</td>\n",
       "      <td>6.567086</td>\n",
       "      <td>Afghanistan_1952</td>\n",
       "    </tr>\n",
       "    <tr>\n",
       "      <th>1</th>\n",
       "      <td>Afghanistan</td>\n",
       "      <td>1957</td>\n",
       "      <td>30.0</td>\n",
       "      <td>9240934.0</td>\n",
       "      <td>820.853030</td>\n",
       "      <td>7.585449e+09</td>\n",
       "      <td>7.585449</td>\n",
       "      <td>Afghanistan_1957</td>\n",
       "    </tr>\n",
       "    <tr>\n",
       "      <th>2</th>\n",
       "      <td>Afghanistan</td>\n",
       "      <td>1962</td>\n",
       "      <td>31.0</td>\n",
       "      <td>10267083.0</td>\n",
       "      <td>853.100710</td>\n",
       "      <td>8.758856e+09</td>\n",
       "      <td>8.758856</td>\n",
       "      <td>Afghanistan_1962</td>\n",
       "    </tr>\n",
       "    <tr>\n",
       "      <th>3</th>\n",
       "      <td>Afghanistan</td>\n",
       "      <td>1967</td>\n",
       "      <td>34.0</td>\n",
       "      <td>11537966.0</td>\n",
       "      <td>836.197138</td>\n",
       "      <td>9.648014e+09</td>\n",
       "      <td>9.648014</td>\n",
       "      <td>Afghanistan_1967</td>\n",
       "    </tr>\n",
       "    <tr>\n",
       "      <th>4</th>\n",
       "      <td>Afghanistan</td>\n",
       "      <td>1972</td>\n",
       "      <td>36.0</td>\n",
       "      <td>13079460.0</td>\n",
       "      <td>739.981106</td>\n",
       "      <td>9.678553e+09</td>\n",
       "      <td>9.678553</td>\n",
       "      <td>Afghanistan_1972</td>\n",
       "    </tr>\n",
       "  </tbody>\n",
       "</table>\n",
       "</div>"
      ],
      "text/plain": [
       "       Country  Year  lifeExp  Population   gdpPercap      TotalGDP  \\\n",
       "0  Afghanistan  1952     28.0   8425333.0  779.445314  6.567086e+09   \n",
       "1  Afghanistan  1957     30.0   9240934.0  820.853030  7.585449e+09   \n",
       "2  Afghanistan  1962     31.0  10267083.0  853.100710  8.758856e+09   \n",
       "3  Afghanistan  1967     34.0  11537966.0  836.197138  9.648014e+09   \n",
       "4  Afghanistan  1972     36.0  13079460.0  739.981106  9.678553e+09   \n",
       "\n",
       "   TotalGDP_inBil      country_year  \n",
       "0        6.567086  Afghanistan_1952  \n",
       "1        7.585449  Afghanistan_1957  \n",
       "2        8.758856  Afghanistan_1962  \n",
       "3        9.648014  Afghanistan_1967  \n",
       "4        9.678553  Afghanistan_1972  "
      ]
     },
     "execution_count": 49,
     "metadata": {},
     "output_type": "execute_result"
    }
   ],
   "source": [
    "df['country_year'] = df['Country'].astype(str) + '_' + df['Year'].astype(str)\n",
    "df.head()"
   ]
  },
  {
   "cell_type": "code",
   "execution_count": 51,
   "id": "21e91651-d612-4d05-ac4b-aff88fff246e",
   "metadata": {
    "tags": []
   },
   "outputs": [
    {
     "data": {
      "text/html": [
       "<div>\n",
       "<style scoped>\n",
       "    .dataframe tbody tr th:only-of-type {\n",
       "        vertical-align: middle;\n",
       "    }\n",
       "\n",
       "    .dataframe tbody tr th {\n",
       "        vertical-align: top;\n",
       "    }\n",
       "\n",
       "    .dataframe thead th {\n",
       "        text-align: right;\n",
       "    }\n",
       "</style>\n",
       "<table border=\"1\" class=\"dataframe\">\n",
       "  <thead>\n",
       "    <tr style=\"text-align: right;\">\n",
       "      <th></th>\n",
       "      <th>Country</th>\n",
       "      <th>Year</th>\n",
       "      <th>lifeExp</th>\n",
       "      <th>Population</th>\n",
       "      <th>gdpPercap</th>\n",
       "      <th>TotalGDP</th>\n",
       "      <th>TotalGDP_inBil</th>\n",
       "      <th>country_year</th>\n",
       "      <th>country_short</th>\n",
       "    </tr>\n",
       "  </thead>\n",
       "  <tbody>\n",
       "    <tr>\n",
       "      <th>0</th>\n",
       "      <td>Afghanistan</td>\n",
       "      <td>1952</td>\n",
       "      <td>28.0</td>\n",
       "      <td>8425333.0</td>\n",
       "      <td>779.445314</td>\n",
       "      <td>6.567086e+09</td>\n",
       "      <td>6.567086</td>\n",
       "      <td>Afghanistan_1952</td>\n",
       "      <td>Afg</td>\n",
       "    </tr>\n",
       "    <tr>\n",
       "      <th>1</th>\n",
       "      <td>Afghanistan</td>\n",
       "      <td>1957</td>\n",
       "      <td>30.0</td>\n",
       "      <td>9240934.0</td>\n",
       "      <td>820.853030</td>\n",
       "      <td>7.585449e+09</td>\n",
       "      <td>7.585449</td>\n",
       "      <td>Afghanistan_1957</td>\n",
       "      <td>Afg</td>\n",
       "    </tr>\n",
       "    <tr>\n",
       "      <th>2</th>\n",
       "      <td>Afghanistan</td>\n",
       "      <td>1962</td>\n",
       "      <td>31.0</td>\n",
       "      <td>10267083.0</td>\n",
       "      <td>853.100710</td>\n",
       "      <td>8.758856e+09</td>\n",
       "      <td>8.758856</td>\n",
       "      <td>Afghanistan_1962</td>\n",
       "      <td>Afg</td>\n",
       "    </tr>\n",
       "    <tr>\n",
       "      <th>3</th>\n",
       "      <td>Afghanistan</td>\n",
       "      <td>1967</td>\n",
       "      <td>34.0</td>\n",
       "      <td>11537966.0</td>\n",
       "      <td>836.197138</td>\n",
       "      <td>9.648014e+09</td>\n",
       "      <td>9.648014</td>\n",
       "      <td>Afghanistan_1967</td>\n",
       "      <td>Afg</td>\n",
       "    </tr>\n",
       "    <tr>\n",
       "      <th>4</th>\n",
       "      <td>Afghanistan</td>\n",
       "      <td>1972</td>\n",
       "      <td>36.0</td>\n",
       "      <td>13079460.0</td>\n",
       "      <td>739.981106</td>\n",
       "      <td>9.678553e+09</td>\n",
       "      <td>9.678553</td>\n",
       "      <td>Afghanistan_1972</td>\n",
       "      <td>Afg</td>\n",
       "    </tr>\n",
       "  </tbody>\n",
       "</table>\n",
       "</div>"
      ],
      "text/plain": [
       "       Country  Year  lifeExp  Population   gdpPercap      TotalGDP  \\\n",
       "0  Afghanistan  1952     28.0   8425333.0  779.445314  6.567086e+09   \n",
       "1  Afghanistan  1957     30.0   9240934.0  820.853030  7.585449e+09   \n",
       "2  Afghanistan  1962     31.0  10267083.0  853.100710  8.758856e+09   \n",
       "3  Afghanistan  1967     34.0  11537966.0  836.197138  9.648014e+09   \n",
       "4  Afghanistan  1972     36.0  13079460.0  739.981106  9.678553e+09   \n",
       "\n",
       "   TotalGDP_inBil      country_year country_short  \n",
       "0        6.567086  Afghanistan_1952           Afg  \n",
       "1        7.585449  Afghanistan_1957           Afg  \n",
       "2        8.758856  Afghanistan_1962           Afg  \n",
       "3        9.648014  Afghanistan_1967           Afg  \n",
       "4        9.678553  Afghanistan_1972           Afg  "
      ]
     },
     "execution_count": 51,
     "metadata": {},
     "output_type": "execute_result"
    }
   ],
   "source": [
    "df['country_short'] = df['Country'].str[: 3]\n",
    "df.head()"
   ]
  },
  {
   "cell_type": "code",
   "execution_count": 52,
   "id": "2ca1d544-7e8a-4c89-a3f7-4f64f418b318",
   "metadata": {
    "tags": []
   },
   "outputs": [
    {
     "data": {
      "text/html": [
       "<div>\n",
       "<style scoped>\n",
       "    .dataframe tbody tr th:only-of-type {\n",
       "        vertical-align: middle;\n",
       "    }\n",
       "\n",
       "    .dataframe tbody tr th {\n",
       "        vertical-align: top;\n",
       "    }\n",
       "\n",
       "    .dataframe thead th {\n",
       "        text-align: right;\n",
       "    }\n",
       "</style>\n",
       "<table border=\"1\" class=\"dataframe\">\n",
       "  <thead>\n",
       "    <tr style=\"text-align: right;\">\n",
       "      <th></th>\n",
       "      <th>Country</th>\n",
       "      <th>Year</th>\n",
       "      <th>lifeExp</th>\n",
       "      <th>Population</th>\n",
       "      <th>gdpPercap</th>\n",
       "      <th>TotalGDP</th>\n",
       "      <th>TotalGDP_inBil</th>\n",
       "      <th>country_year</th>\n",
       "      <th>country_short</th>\n",
       "      <th>GDPpercap</th>\n",
       "    </tr>\n",
       "  </thead>\n",
       "  <tbody>\n",
       "    <tr>\n",
       "      <th>0</th>\n",
       "      <td>Afghanistan</td>\n",
       "      <td>1952</td>\n",
       "      <td>28.0</td>\n",
       "      <td>8425333.0</td>\n",
       "      <td>779.445314</td>\n",
       "      <td>6.567086e+09</td>\n",
       "      <td>6.567086</td>\n",
       "      <td>Afghanistan_1952</td>\n",
       "      <td>Afg</td>\n",
       "      <td>779.445314</td>\n",
       "    </tr>\n",
       "    <tr>\n",
       "      <th>1</th>\n",
       "      <td>Afghanistan</td>\n",
       "      <td>1957</td>\n",
       "      <td>30.0</td>\n",
       "      <td>9240934.0</td>\n",
       "      <td>820.853030</td>\n",
       "      <td>7.585449e+09</td>\n",
       "      <td>7.585449</td>\n",
       "      <td>Afghanistan_1957</td>\n",
       "      <td>Afg</td>\n",
       "      <td>820.853030</td>\n",
       "    </tr>\n",
       "    <tr>\n",
       "      <th>2</th>\n",
       "      <td>Afghanistan</td>\n",
       "      <td>1962</td>\n",
       "      <td>31.0</td>\n",
       "      <td>10267083.0</td>\n",
       "      <td>853.100710</td>\n",
       "      <td>8.758856e+09</td>\n",
       "      <td>8.758856</td>\n",
       "      <td>Afghanistan_1962</td>\n",
       "      <td>Afg</td>\n",
       "      <td>853.100710</td>\n",
       "    </tr>\n",
       "    <tr>\n",
       "      <th>3</th>\n",
       "      <td>Afghanistan</td>\n",
       "      <td>1967</td>\n",
       "      <td>34.0</td>\n",
       "      <td>11537966.0</td>\n",
       "      <td>836.197138</td>\n",
       "      <td>9.648014e+09</td>\n",
       "      <td>9.648014</td>\n",
       "      <td>Afghanistan_1967</td>\n",
       "      <td>Afg</td>\n",
       "      <td>836.197138</td>\n",
       "    </tr>\n",
       "    <tr>\n",
       "      <th>4</th>\n",
       "      <td>Afghanistan</td>\n",
       "      <td>1972</td>\n",
       "      <td>36.0</td>\n",
       "      <td>13079460.0</td>\n",
       "      <td>739.981106</td>\n",
       "      <td>9.678553e+09</td>\n",
       "      <td>9.678553</td>\n",
       "      <td>Afghanistan_1972</td>\n",
       "      <td>Afg</td>\n",
       "      <td>739.981106</td>\n",
       "    </tr>\n",
       "  </tbody>\n",
       "</table>\n",
       "</div>"
      ],
      "text/plain": [
       "       Country  Year  lifeExp  Population   gdpPercap      TotalGDP  \\\n",
       "0  Afghanistan  1952     28.0   8425333.0  779.445314  6.567086e+09   \n",
       "1  Afghanistan  1957     30.0   9240934.0  820.853030  7.585449e+09   \n",
       "2  Afghanistan  1962     31.0  10267083.0  853.100710  8.758856e+09   \n",
       "3  Afghanistan  1967     34.0  11537966.0  836.197138  9.648014e+09   \n",
       "4  Afghanistan  1972     36.0  13079460.0  739.981106  9.678553e+09   \n",
       "\n",
       "   TotalGDP_inBil      country_year country_short   GDPpercap  \n",
       "0        6.567086  Afghanistan_1952           Afg  779.445314  \n",
       "1        7.585449  Afghanistan_1957           Afg  820.853030  \n",
       "2        8.758856  Afghanistan_1962           Afg  853.100710  \n",
       "3        9.648014  Afghanistan_1967           Afg  836.197138  \n",
       "4        9.678553  Afghanistan_1972           Afg  739.981106  "
      ]
     },
     "execution_count": 52,
     "metadata": {},
     "output_type": "execute_result"
    }
   ],
   "source": [
    "df['GDPpercap'] = df['TotalGDP_inBil']*1000000000/df['Population']\n",
    "df.head()"
   ]
  },
  {
   "cell_type": "code",
   "execution_count": 53,
   "id": "74bbe86c-a50c-49ba-9424-0668ef55eb12",
   "metadata": {
    "tags": []
   },
   "outputs": [
    {
     "data": {
      "text/plain": [
       "0       Afghanistan\n",
       "1       Afghanistan\n",
       "2       Afghanistan\n",
       "3       Afghanistan\n",
       "4       Afghanistan\n",
       "           ...     \n",
       "1699       Zimbabwe\n",
       "1700       Zimbabwe\n",
       "1701       Zimbabwe\n",
       "1702       Zimbabwe\n",
       "1703       Zimbabwe\n",
       "Name: Country, Length: 1704, dtype: object"
      ]
     },
     "execution_count": 53,
     "metadata": {},
     "output_type": "execute_result"
    }
   ],
   "source": [
    "df['Country']"
   ]
  },
  {
   "cell_type": "code",
   "execution_count": 54,
   "id": "85b81c7a-8fb4-4d57-bb29-571e65c9a609",
   "metadata": {
    "tags": []
   },
   "outputs": [
    {
     "data": {
      "text/html": [
       "<div>\n",
       "<style scoped>\n",
       "    .dataframe tbody tr th:only-of-type {\n",
       "        vertical-align: middle;\n",
       "    }\n",
       "\n",
       "    .dataframe tbody tr th {\n",
       "        vertical-align: top;\n",
       "    }\n",
       "\n",
       "    .dataframe thead th {\n",
       "        text-align: right;\n",
       "    }\n",
       "</style>\n",
       "<table border=\"1\" class=\"dataframe\">\n",
       "  <thead>\n",
       "    <tr style=\"text-align: right;\">\n",
       "      <th></th>\n",
       "      <th>Country</th>\n",
       "      <th>Year</th>\n",
       "      <th>lifeExp</th>\n",
       "      <th>Population</th>\n",
       "      <th>gdpPercap</th>\n",
       "      <th>TotalGDP</th>\n",
       "      <th>TotalGDP_inBil</th>\n",
       "      <th>country_year</th>\n",
       "      <th>country_short</th>\n",
       "      <th>GDPpercap</th>\n",
       "    </tr>\n",
       "  </thead>\n",
       "  <tbody>\n",
       "    <tr>\n",
       "      <th>240</th>\n",
       "      <td>Canada</td>\n",
       "      <td>1952</td>\n",
       "      <td>68.0</td>\n",
       "      <td>14785584.0</td>\n",
       "      <td>11367.16112</td>\n",
       "      <td>1.680701e+11</td>\n",
       "      <td>168.070116</td>\n",
       "      <td>Canada_1952</td>\n",
       "      <td>Can</td>\n",
       "      <td>11367.16112</td>\n",
       "    </tr>\n",
       "    <tr>\n",
       "      <th>241</th>\n",
       "      <td>Canada</td>\n",
       "      <td>1957</td>\n",
       "      <td>69.0</td>\n",
       "      <td>17010154.0</td>\n",
       "      <td>12489.95006</td>\n",
       "      <td>2.124560e+11</td>\n",
       "      <td>212.455974</td>\n",
       "      <td>Canada_1957</td>\n",
       "      <td>Can</td>\n",
       "      <td>12489.95006</td>\n",
       "    </tr>\n",
       "    <tr>\n",
       "      <th>242</th>\n",
       "      <td>Canada</td>\n",
       "      <td>1962</td>\n",
       "      <td>71.0</td>\n",
       "      <td>18985849.0</td>\n",
       "      <td>13462.48555</td>\n",
       "      <td>2.555967e+11</td>\n",
       "      <td>255.596718</td>\n",
       "      <td>Canada_1962</td>\n",
       "      <td>Can</td>\n",
       "      <td>13462.48555</td>\n",
       "    </tr>\n",
       "    <tr>\n",
       "      <th>243</th>\n",
       "      <td>Canada</td>\n",
       "      <td>1967</td>\n",
       "      <td>72.0</td>\n",
       "      <td>20819767.0</td>\n",
       "      <td>16076.58803</td>\n",
       "      <td>3.347108e+11</td>\n",
       "      <td>334.710817</td>\n",
       "      <td>Canada_1967</td>\n",
       "      <td>Can</td>\n",
       "      <td>16076.58803</td>\n",
       "    </tr>\n",
       "    <tr>\n",
       "      <th>244</th>\n",
       "      <td>Canada</td>\n",
       "      <td>1972</td>\n",
       "      <td>72.0</td>\n",
       "      <td>22284500.0</td>\n",
       "      <td>18970.57086</td>\n",
       "      <td>4.227497e+11</td>\n",
       "      <td>422.749686</td>\n",
       "      <td>Canada_1972</td>\n",
       "      <td>Can</td>\n",
       "      <td>18970.57086</td>\n",
       "    </tr>\n",
       "  </tbody>\n",
       "</table>\n",
       "</div>"
      ],
      "text/plain": [
       "    Country  Year  lifeExp  Population    gdpPercap      TotalGDP  \\\n",
       "240  Canada  1952     68.0  14785584.0  11367.16112  1.680701e+11   \n",
       "241  Canada  1957     69.0  17010154.0  12489.95006  2.124560e+11   \n",
       "242  Canada  1962     71.0  18985849.0  13462.48555  2.555967e+11   \n",
       "243  Canada  1967     72.0  20819767.0  16076.58803  3.347108e+11   \n",
       "244  Canada  1972     72.0  22284500.0  18970.57086  4.227497e+11   \n",
       "\n",
       "     TotalGDP_inBil country_year country_short    GDPpercap  \n",
       "240      168.070116  Canada_1952           Can  11367.16112  \n",
       "241      212.455974  Canada_1957           Can  12489.95006  \n",
       "242      255.596718  Canada_1962           Can  13462.48555  \n",
       "243      334.710817  Canada_1967           Can  16076.58803  \n",
       "244      422.749686  Canada_1972           Can  18970.57086  "
      ]
     },
     "execution_count": 54,
     "metadata": {},
     "output_type": "execute_result"
    }
   ],
   "source": [
    "df2 = df[df['Country'] == 'Canada']\n",
    "df2.head()"
   ]
  },
  {
   "cell_type": "code",
   "execution_count": 56,
   "id": "852983f9-bfcd-48a5-be1a-2143d46ee65c",
   "metadata": {
    "tags": []
   },
   "outputs": [
    {
     "data": {
      "text/html": [
       "<div>\n",
       "<style scoped>\n",
       "    .dataframe tbody tr th:only-of-type {\n",
       "        vertical-align: middle;\n",
       "    }\n",
       "\n",
       "    .dataframe tbody tr th {\n",
       "        vertical-align: top;\n",
       "    }\n",
       "\n",
       "    .dataframe thead th {\n",
       "        text-align: right;\n",
       "    }\n",
       "</style>\n",
       "<table border=\"1\" class=\"dataframe\">\n",
       "  <thead>\n",
       "    <tr style=\"text-align: right;\">\n",
       "      <th></th>\n",
       "      <th>Country</th>\n",
       "      <th>Population</th>\n",
       "    </tr>\n",
       "  </thead>\n",
       "  <tbody>\n",
       "    <tr>\n",
       "      <th>0</th>\n",
       "      <td>Afghanistan</td>\n",
       "      <td>8425333.0</td>\n",
       "    </tr>\n",
       "    <tr>\n",
       "      <th>1</th>\n",
       "      <td>Afghanistan</td>\n",
       "      <td>9240934.0</td>\n",
       "    </tr>\n",
       "    <tr>\n",
       "      <th>2</th>\n",
       "      <td>Afghanistan</td>\n",
       "      <td>10267083.0</td>\n",
       "    </tr>\n",
       "    <tr>\n",
       "      <th>3</th>\n",
       "      <td>Afghanistan</td>\n",
       "      <td>11537966.0</td>\n",
       "    </tr>\n",
       "    <tr>\n",
       "      <th>4</th>\n",
       "      <td>Afghanistan</td>\n",
       "      <td>13079460.0</td>\n",
       "    </tr>\n",
       "    <tr>\n",
       "      <th>...</th>\n",
       "      <td>...</td>\n",
       "      <td>...</td>\n",
       "    </tr>\n",
       "    <tr>\n",
       "      <th>1699</th>\n",
       "      <td>Zimbabwe</td>\n",
       "      <td>9216418.0</td>\n",
       "    </tr>\n",
       "    <tr>\n",
       "      <th>1700</th>\n",
       "      <td>Zimbabwe</td>\n",
       "      <td>10704340.0</td>\n",
       "    </tr>\n",
       "    <tr>\n",
       "      <th>1701</th>\n",
       "      <td>Zimbabwe</td>\n",
       "      <td>11404948.0</td>\n",
       "    </tr>\n",
       "    <tr>\n",
       "      <th>1702</th>\n",
       "      <td>Zimbabwe</td>\n",
       "      <td>11926563.0</td>\n",
       "    </tr>\n",
       "    <tr>\n",
       "      <th>1703</th>\n",
       "      <td>Zimbabwe</td>\n",
       "      <td>12311143.0</td>\n",
       "    </tr>\n",
       "  </tbody>\n",
       "</table>\n",
       "<p>1704 rows × 2 columns</p>\n",
       "</div>"
      ],
      "text/plain": [
       "          Country  Population\n",
       "0     Afghanistan   8425333.0\n",
       "1     Afghanistan   9240934.0\n",
       "2     Afghanistan  10267083.0\n",
       "3     Afghanistan  11537966.0\n",
       "4     Afghanistan  13079460.0\n",
       "...           ...         ...\n",
       "1699     Zimbabwe   9216418.0\n",
       "1700     Zimbabwe  10704340.0\n",
       "1701     Zimbabwe  11404948.0\n",
       "1702     Zimbabwe  11926563.0\n",
       "1703     Zimbabwe  12311143.0\n",
       "\n",
       "[1704 rows x 2 columns]"
      ]
     },
     "execution_count": 56,
     "metadata": {},
     "output_type": "execute_result"
    }
   ],
   "source": [
    "col = ['Country', 'Population']\n",
    "df[col]"
   ]
  },
  {
   "cell_type": "code",
   "execution_count": 58,
   "id": "1eb653b2-7196-4e93-8c95-21e001eb418c",
   "metadata": {
    "tags": []
   },
   "outputs": [
    {
     "data": {
      "text/plain": [
       "Population    2.960121e+07\n",
       "dtype: float64"
      ]
     },
     "execution_count": 58,
     "metadata": {},
     "output_type": "execute_result"
    }
   ],
   "source": [
    "df[col].mean(numeric_only = True)"
   ]
  },
  {
   "cell_type": "code",
   "execution_count": 59,
   "id": "2dc178e6-95f5-4024-9495-a8a1ebdf84af",
   "metadata": {
    "tags": []
   },
   "outputs": [
    {
     "data": {
      "text/plain": [
       "Country                 Afghanistan\n",
       "Year                           1952\n",
       "lifeExp                        28.0\n",
       "Population                8425333.0\n",
       "gdpPercap                779.445314\n",
       "TotalGDP          6567086329.952229\n",
       "TotalGDP_inBil             6.567086\n",
       "country_year       Afghanistan_1952\n",
       "country_short                   Afg\n",
       "GDPpercap                779.445314\n",
       "Name: 0, dtype: object"
      ]
     },
     "execution_count": 59,
     "metadata": {},
     "output_type": "execute_result"
    }
   ],
   "source": [
    "df.iloc[0]  #first row"
   ]
  },
  {
   "cell_type": "code",
   "execution_count": 60,
   "id": "44020b5e-c66b-443a-a136-45ad1cc9f220",
   "metadata": {
    "tags": []
   },
   "outputs": [
    {
     "data": {
      "text/plain": [
       "'Afghanistan'"
      ]
     },
     "execution_count": 60,
     "metadata": {},
     "output_type": "execute_result"
    }
   ],
   "source": [
    "df.iloc[0,0]"
   ]
  },
  {
   "cell_type": "code",
   "execution_count": 61,
   "id": "b8d41d77-32a5-4caa-a95b-e1aa5bc5d193",
   "metadata": {
    "tags": []
   },
   "outputs": [
    {
     "data": {
      "text/html": [
       "<div>\n",
       "<style scoped>\n",
       "    .dataframe tbody tr th:only-of-type {\n",
       "        vertical-align: middle;\n",
       "    }\n",
       "\n",
       "    .dataframe tbody tr th {\n",
       "        vertical-align: top;\n",
       "    }\n",
       "\n",
       "    .dataframe thead th {\n",
       "        text-align: right;\n",
       "    }\n",
       "</style>\n",
       "<table border=\"1\" class=\"dataframe\">\n",
       "  <thead>\n",
       "    <tr style=\"text-align: right;\">\n",
       "      <th></th>\n",
       "      <th>Country</th>\n",
       "      <th>Year</th>\n",
       "      <th>lifeExp</th>\n",
       "      <th>Population</th>\n",
       "      <th>gdpPercap</th>\n",
       "      <th>TotalGDP</th>\n",
       "      <th>TotalGDP_inBil</th>\n",
       "      <th>country_year</th>\n",
       "      <th>country_short</th>\n",
       "      <th>GDPpercap</th>\n",
       "    </tr>\n",
       "  </thead>\n",
       "  <tbody>\n",
       "    <tr>\n",
       "      <th>0</th>\n",
       "      <td>Afghanistan</td>\n",
       "      <td>1952</td>\n",
       "      <td>28.0</td>\n",
       "      <td>8425333.0</td>\n",
       "      <td>779.445314</td>\n",
       "      <td>6.567086e+09</td>\n",
       "      <td>6.567086</td>\n",
       "      <td>Afghanistan_1952</td>\n",
       "      <td>Afg</td>\n",
       "      <td>779.445314</td>\n",
       "    </tr>\n",
       "    <tr>\n",
       "      <th>1</th>\n",
       "      <td>Afghanistan</td>\n",
       "      <td>1957</td>\n",
       "      <td>30.0</td>\n",
       "      <td>9240934.0</td>\n",
       "      <td>820.853030</td>\n",
       "      <td>7.585449e+09</td>\n",
       "      <td>7.585449</td>\n",
       "      <td>Afghanistan_1957</td>\n",
       "      <td>Afg</td>\n",
       "      <td>820.853030</td>\n",
       "    </tr>\n",
       "    <tr>\n",
       "      <th>2</th>\n",
       "      <td>Afghanistan</td>\n",
       "      <td>1962</td>\n",
       "      <td>31.0</td>\n",
       "      <td>10267083.0</td>\n",
       "      <td>853.100710</td>\n",
       "      <td>8.758856e+09</td>\n",
       "      <td>8.758856</td>\n",
       "      <td>Afghanistan_1962</td>\n",
       "      <td>Afg</td>\n",
       "      <td>853.100710</td>\n",
       "    </tr>\n",
       "  </tbody>\n",
       "</table>\n",
       "</div>"
      ],
      "text/plain": [
       "       Country  Year  lifeExp  Population   gdpPercap      TotalGDP  \\\n",
       "0  Afghanistan  1952     28.0   8425333.0  779.445314  6.567086e+09   \n",
       "1  Afghanistan  1957     30.0   9240934.0  820.853030  7.585449e+09   \n",
       "2  Afghanistan  1962     31.0  10267083.0  853.100710  8.758856e+09   \n",
       "\n",
       "   TotalGDP_inBil      country_year country_short   GDPpercap  \n",
       "0        6.567086  Afghanistan_1952           Afg  779.445314  \n",
       "1        7.585449  Afghanistan_1957           Afg  820.853030  \n",
       "2        8.758856  Afghanistan_1962           Afg  853.100710  "
      ]
     },
     "execution_count": 61,
     "metadata": {},
     "output_type": "execute_result"
    }
   ],
   "source": [
    "df.iloc[0:3] "
   ]
  },
  {
   "cell_type": "code",
   "execution_count": 64,
   "id": "050b61f0-b97b-4b37-bf0e-ab1eb1108204",
   "metadata": {
    "tags": []
   },
   "outputs": [
    {
     "data": {
      "text/plain": [
       "0       Afghanistan\n",
       "1       Afghanistan\n",
       "2       Afghanistan\n",
       "3       Afghanistan\n",
       "4       Afghanistan\n",
       "           ...     \n",
       "1699       Zimbabwe\n",
       "1700       Zimbabwe\n",
       "1701       Zimbabwe\n",
       "1702       Zimbabwe\n",
       "1703       Zimbabwe\n",
       "Name: Country, Length: 1704, dtype: object"
      ]
     },
     "execution_count": 64,
     "metadata": {},
     "output_type": "execute_result"
    }
   ],
   "source": [
    "df.iloc[:,0] "
   ]
  },
  {
   "cell_type": "code",
   "execution_count": 65,
   "id": "b9beac83-8d22-4a90-a365-e631714b493d",
   "metadata": {
    "tags": []
   },
   "outputs": [
    {
     "data": {
      "text/html": [
       "<div>\n",
       "<style scoped>\n",
       "    .dataframe tbody tr th:only-of-type {\n",
       "        vertical-align: middle;\n",
       "    }\n",
       "\n",
       "    .dataframe tbody tr th {\n",
       "        vertical-align: top;\n",
       "    }\n",
       "\n",
       "    .dataframe thead th {\n",
       "        text-align: right;\n",
       "    }\n",
       "</style>\n",
       "<table border=\"1\" class=\"dataframe\">\n",
       "  <thead>\n",
       "    <tr style=\"text-align: right;\">\n",
       "      <th></th>\n",
       "      <th>Year</th>\n",
       "      <th>lifeExp</th>\n",
       "    </tr>\n",
       "  </thead>\n",
       "  <tbody>\n",
       "    <tr>\n",
       "      <th>0</th>\n",
       "      <td>1952</td>\n",
       "      <td>28.0</td>\n",
       "    </tr>\n",
       "    <tr>\n",
       "      <th>1</th>\n",
       "      <td>1957</td>\n",
       "      <td>30.0</td>\n",
       "    </tr>\n",
       "    <tr>\n",
       "      <th>2</th>\n",
       "      <td>1962</td>\n",
       "      <td>31.0</td>\n",
       "    </tr>\n",
       "    <tr>\n",
       "      <th>3</th>\n",
       "      <td>1967</td>\n",
       "      <td>34.0</td>\n",
       "    </tr>\n",
       "    <tr>\n",
       "      <th>4</th>\n",
       "      <td>1972</td>\n",
       "      <td>36.0</td>\n",
       "    </tr>\n",
       "    <tr>\n",
       "      <th>...</th>\n",
       "      <td>...</td>\n",
       "      <td>...</td>\n",
       "    </tr>\n",
       "    <tr>\n",
       "      <th>1699</th>\n",
       "      <td>1987</td>\n",
       "      <td>62.0</td>\n",
       "    </tr>\n",
       "    <tr>\n",
       "      <th>1700</th>\n",
       "      <td>1992</td>\n",
       "      <td>60.0</td>\n",
       "    </tr>\n",
       "    <tr>\n",
       "      <th>1701</th>\n",
       "      <td>1997</td>\n",
       "      <td>46.0</td>\n",
       "    </tr>\n",
       "    <tr>\n",
       "      <th>1702</th>\n",
       "      <td>2002</td>\n",
       "      <td>39.0</td>\n",
       "    </tr>\n",
       "    <tr>\n",
       "      <th>1703</th>\n",
       "      <td>2007</td>\n",
       "      <td>43.0</td>\n",
       "    </tr>\n",
       "  </tbody>\n",
       "</table>\n",
       "<p>1704 rows × 2 columns</p>\n",
       "</div>"
      ],
      "text/plain": [
       "      Year  lifeExp\n",
       "0     1952     28.0\n",
       "1     1957     30.0\n",
       "2     1962     31.0\n",
       "3     1967     34.0\n",
       "4     1972     36.0\n",
       "...    ...      ...\n",
       "1699  1987     62.0\n",
       "1700  1992     60.0\n",
       "1701  1997     46.0\n",
       "1702  2002     39.0\n",
       "1703  2007     43.0\n",
       "\n",
       "[1704 rows x 2 columns]"
      ]
     },
     "execution_count": 65,
     "metadata": {},
     "output_type": "execute_result"
    }
   ],
   "source": [
    "df.iloc[:,1:3] "
   ]
  },
  {
   "cell_type": "code",
   "execution_count": 68,
   "id": "6273c4da-eac4-4427-ab67-30df073a3699",
   "metadata": {
    "tags": []
   },
   "outputs": [
    {
     "data": {
      "text/html": [
       "<div>\n",
       "<style scoped>\n",
       "    .dataframe tbody tr th:only-of-type {\n",
       "        vertical-align: middle;\n",
       "    }\n",
       "\n",
       "    .dataframe tbody tr th {\n",
       "        vertical-align: top;\n",
       "    }\n",
       "\n",
       "    .dataframe thead th {\n",
       "        text-align: right;\n",
       "    }\n",
       "</style>\n",
       "<table border=\"1\" class=\"dataframe\">\n",
       "  <thead>\n",
       "    <tr style=\"text-align: right;\">\n",
       "      <th></th>\n",
       "      <th>Country</th>\n",
       "      <th>Year</th>\n",
       "      <th>lifeExp</th>\n",
       "      <th>Population</th>\n",
       "      <th>gdpPercap</th>\n",
       "      <th>TotalGDP</th>\n",
       "      <th>TotalGDP_inBil</th>\n",
       "      <th>country_year</th>\n",
       "      <th>country_short</th>\n",
       "      <th>GDPpercap</th>\n",
       "    </tr>\n",
       "  </thead>\n",
       "  <tbody>\n",
       "    <tr>\n",
       "      <th>294</th>\n",
       "      <td>China</td>\n",
       "      <td>1982</td>\n",
       "      <td>65.0</td>\n",
       "      <td>1.000281e+09</td>\n",
       "      <td>962.421381</td>\n",
       "      <td>9.626918e+11</td>\n",
       "      <td>962.691821</td>\n",
       "      <td>China_1982</td>\n",
       "      <td>Chi</td>\n",
       "      <td>962.421381</td>\n",
       "    </tr>\n",
       "    <tr>\n",
       "      <th>295</th>\n",
       "      <td>China</td>\n",
       "      <td>1987</td>\n",
       "      <td>67.0</td>\n",
       "      <td>1.084035e+09</td>\n",
       "      <td>1378.904018</td>\n",
       "      <td>1.494780e+12</td>\n",
       "      <td>1494.780217</td>\n",
       "      <td>China_1987</td>\n",
       "      <td>Chi</td>\n",
       "      <td>1378.904018</td>\n",
       "    </tr>\n",
       "    <tr>\n",
       "      <th>296</th>\n",
       "      <td>China</td>\n",
       "      <td>1992</td>\n",
       "      <td>68.0</td>\n",
       "      <td>1.164970e+09</td>\n",
       "      <td>1655.784158</td>\n",
       "      <td>1.928939e+12</td>\n",
       "      <td>1928.938871</td>\n",
       "      <td>China_1992</td>\n",
       "      <td>Chi</td>\n",
       "      <td>1655.784158</td>\n",
       "    </tr>\n",
       "    <tr>\n",
       "      <th>297</th>\n",
       "      <td>China</td>\n",
       "      <td>1997</td>\n",
       "      <td>70.0</td>\n",
       "      <td>1.230075e+09</td>\n",
       "      <td>2289.234136</td>\n",
       "      <td>2.815930e+12</td>\n",
       "      <td>2815.929680</td>\n",
       "      <td>China_1997</td>\n",
       "      <td>Chi</td>\n",
       "      <td>2289.234136</td>\n",
       "    </tr>\n",
       "    <tr>\n",
       "      <th>298</th>\n",
       "      <td>China</td>\n",
       "      <td>2002</td>\n",
       "      <td>72.0</td>\n",
       "      <td>1.280400e+09</td>\n",
       "      <td>3119.280896</td>\n",
       "      <td>3.993927e+12</td>\n",
       "      <td>3993.927259</td>\n",
       "      <td>China_2002</td>\n",
       "      <td>Chi</td>\n",
       "      <td>3119.280896</td>\n",
       "    </tr>\n",
       "    <tr>\n",
       "      <th>299</th>\n",
       "      <td>China</td>\n",
       "      <td>2007</td>\n",
       "      <td>72.0</td>\n",
       "      <td>1.318683e+09</td>\n",
       "      <td>4959.114854</td>\n",
       "      <td>6.539501e+12</td>\n",
       "      <td>6539.500929</td>\n",
       "      <td>China_2007</td>\n",
       "      <td>Chi</td>\n",
       "      <td>4959.114854</td>\n",
       "    </tr>\n",
       "    <tr>\n",
       "      <th>706</th>\n",
       "      <td>India</td>\n",
       "      <td>2002</td>\n",
       "      <td>62.0</td>\n",
       "      <td>1.034173e+09</td>\n",
       "      <td>1746.769454</td>\n",
       "      <td>1.806461e+12</td>\n",
       "      <td>1806.461015</td>\n",
       "      <td>India_2002</td>\n",
       "      <td>Ind</td>\n",
       "      <td>1746.769454</td>\n",
       "    </tr>\n",
       "    <tr>\n",
       "      <th>707</th>\n",
       "      <td>India</td>\n",
       "      <td>2007</td>\n",
       "      <td>64.0</td>\n",
       "      <td>1.110396e+09</td>\n",
       "      <td>2452.210407</td>\n",
       "      <td>2.722925e+12</td>\n",
       "      <td>2722.925439</td>\n",
       "      <td>India_2007</td>\n",
       "      <td>Ind</td>\n",
       "      <td>2452.210407</td>\n",
       "    </tr>\n",
       "  </tbody>\n",
       "</table>\n",
       "</div>"
      ],
      "text/plain": [
       "    Country  Year  lifeExp    Population    gdpPercap      TotalGDP  \\\n",
       "294   China  1982     65.0  1.000281e+09   962.421381  9.626918e+11   \n",
       "295   China  1987     67.0  1.084035e+09  1378.904018  1.494780e+12   \n",
       "296   China  1992     68.0  1.164970e+09  1655.784158  1.928939e+12   \n",
       "297   China  1997     70.0  1.230075e+09  2289.234136  2.815930e+12   \n",
       "298   China  2002     72.0  1.280400e+09  3119.280896  3.993927e+12   \n",
       "299   China  2007     72.0  1.318683e+09  4959.114854  6.539501e+12   \n",
       "706   India  2002     62.0  1.034173e+09  1746.769454  1.806461e+12   \n",
       "707   India  2007     64.0  1.110396e+09  2452.210407  2.722925e+12   \n",
       "\n",
       "     TotalGDP_inBil country_year country_short    GDPpercap  \n",
       "294      962.691821   China_1982           Chi   962.421381  \n",
       "295     1494.780217   China_1987           Chi  1378.904018  \n",
       "296     1928.938871   China_1992           Chi  1655.784158  \n",
       "297     2815.929680   China_1997           Chi  2289.234136  \n",
       "298     3993.927259   China_2002           Chi  3119.280896  \n",
       "299     6539.500929   China_2007           Chi  4959.114854  \n",
       "706     1806.461015   India_2002           Ind  1746.769454  \n",
       "707     2722.925439   India_2007           Ind  2452.210407  "
      ]
     },
     "execution_count": 68,
     "metadata": {},
     "output_type": "execute_result"
    }
   ],
   "source": [
    "df_large_populaiton = df[df['Population'] > 1000000000]\n",
    "df_large_populaiton"
   ]
  },
  {
   "cell_type": "code",
   "execution_count": 70,
   "id": "26f4c4e0-1b62-4ca1-b80f-e0c7f538a7b1",
   "metadata": {
    "tags": []
   },
   "outputs": [
    {
     "data": {
      "text/html": [
       "<div>\n",
       "<style scoped>\n",
       "    .dataframe tbody tr th:only-of-type {\n",
       "        vertical-align: middle;\n",
       "    }\n",
       "\n",
       "    .dataframe tbody tr th {\n",
       "        vertical-align: top;\n",
       "    }\n",
       "\n",
       "    .dataframe thead th {\n",
       "        text-align: right;\n",
       "    }\n",
       "</style>\n",
       "<table border=\"1\" class=\"dataframe\">\n",
       "  <thead>\n",
       "    <tr style=\"text-align: right;\">\n",
       "      <th></th>\n",
       "      <th>Country</th>\n",
       "      <th>Year</th>\n",
       "      <th>lifeExp</th>\n",
       "      <th>Population</th>\n",
       "      <th>gdpPercap</th>\n",
       "      <th>TotalGDP</th>\n",
       "      <th>TotalGDP_inBil</th>\n",
       "      <th>country_year</th>\n",
       "      <th>country_short</th>\n",
       "      <th>GDPpercap</th>\n",
       "    </tr>\n",
       "  </thead>\n",
       "  <tbody>\n",
       "    <tr>\n",
       "      <th>250</th>\n",
       "      <td>Canada</td>\n",
       "      <td>2002</td>\n",
       "      <td>79.0</td>\n",
       "      <td>31902268.0</td>\n",
       "      <td>33328.96507</td>\n",
       "      <td>1.063270e+12</td>\n",
       "      <td>1063.269576</td>\n",
       "      <td>Canada_2002</td>\n",
       "      <td>Can</td>\n",
       "      <td>33328.96507</td>\n",
       "    </tr>\n",
       "    <tr>\n",
       "      <th>251</th>\n",
       "      <td>Canada</td>\n",
       "      <td>2007</td>\n",
       "      <td>80.0</td>\n",
       "      <td>33390141.0</td>\n",
       "      <td>36319.23501</td>\n",
       "      <td>1.212704e+12</td>\n",
       "      <td>1212.704378</td>\n",
       "      <td>Canada_2007</td>\n",
       "      <td>Can</td>\n",
       "      <td>36319.23501</td>\n",
       "    </tr>\n",
       "  </tbody>\n",
       "</table>\n",
       "</div>"
      ],
      "text/plain": [
       "    Country  Year  lifeExp  Population    gdpPercap      TotalGDP  \\\n",
       "250  Canada  2002     79.0  31902268.0  33328.96507  1.063270e+12   \n",
       "251  Canada  2007     80.0  33390141.0  36319.23501  1.212704e+12   \n",
       "\n",
       "     TotalGDP_inBil country_year country_short    GDPpercap  \n",
       "250     1063.269576  Canada_2002           Can  33328.96507  \n",
       "251     1212.704378  Canada_2007           Can  36319.23501  "
      ]
     },
     "execution_count": 70,
     "metadata": {},
     "output_type": "execute_result"
    }
   ],
   "source": [
    "df[(df['Country'] == 'Canada') & (df['Year'] >= 2000)]"
   ]
  },
  {
   "cell_type": "code",
   "execution_count": 74,
   "id": "f621d6b7-cd96-4289-bc90-c9b102f5bbb9",
   "metadata": {
    "tags": []
   },
   "outputs": [
    {
     "data": {
      "text/plain": [
       "72.9"
      ]
     },
     "execution_count": 74,
     "metadata": {},
     "output_type": "execute_result"
    }
   ],
   "source": [
    "df_Australia = df[(df['Country'] == 'Australia') & (df['Year'] < 2000)]\n",
    "avg_lifeExp = df_Australia['lifeExp'].mean()\n",
    "avg_lifeExp"
   ]
  },
  {
   "cell_type": "code",
   "execution_count": 75,
   "id": "a2fbf435-adbc-4754-aeda-0d0625005dd2",
   "metadata": {
    "tags": []
   },
   "outputs": [
    {
     "data": {
      "text/plain": [
       "Year              1.974500e+03\n",
       "lifeExp           7.290000e+01\n",
       "Population        1.358108e+07\n",
       "gdpPercap         1.746440e+04\n",
       "TotalGDP          2.539540e+11\n",
       "TotalGDP_inBil    2.539540e+02\n",
       "GDPpercap         1.746440e+04\n",
       "dtype: float64"
      ]
     },
     "execution_count": 75,
     "metadata": {},
     "output_type": "execute_result"
    }
   ],
   "source": [
    "df[(df['Country'] == 'Australia') & (df['Year'] < 2000)].mean(numeric_only = True)"
   ]
  }
 ],
 "metadata": {
  "kernelspec": {
   "display_name": "Python 3 (ipykernel)",
   "language": "python",
   "name": "python3"
  },
  "language_info": {
   "codemirror_mode": {
    "name": "ipython",
    "version": 3
   },
   "file_extension": ".py",
   "mimetype": "text/x-python",
   "name": "python",
   "nbconvert_exporter": "python",
   "pygments_lexer": "ipython3",
   "version": "3.10.9"
  }
 },
 "nbformat": 4,
 "nbformat_minor": 5
}
